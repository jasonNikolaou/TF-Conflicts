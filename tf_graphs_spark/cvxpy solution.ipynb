{
 "cells": [
  {
   "cell_type": "code",
   "execution_count": 1,
   "id": "862c826a",
   "metadata": {},
   "outputs": [],
   "source": [
    "import cvxpy as cp\n",
    "import networkx as nx\n",
    "from networkx.algorithms import bipartite\n",
    "import numpy as np\n",
    "from collections import deque\n",
    "from math import isclose\n",
    "import random\n",
    "import pickle\n",
    "from time import time"
   ]
  },
  {
   "cell_type": "markdown",
   "id": "d546c147",
   "metadata": {},
   "source": [
    "## Read input"
   ]
  },
  {
   "cell_type": "code",
   "execution_count": 2,
   "id": "da749e35",
   "metadata": {},
   "outputs": [
    {
     "name": "stdout",
     "output_type": "stream",
     "text": [
      "number of nodes: 4000\n",
      "number of (conflict) edges: 10166\n",
      "number of projects: 4\n",
      "projects ['PR', 'IT', 'Sales', 'HR']\n"
     ]
    }
   ],
   "source": [
    "input_file = './diversity/DEI.pickle'\n",
    "pipageSetting = \"randomized\"\n",
    "\n",
    "times = dict() # dictionary to keep time for different stages\n",
    "start = time()\n",
    "# Read graph\n",
    "with open(input_file, 'rb') as file:\n",
    "    projects = pickle.load(file)\n",
    "    capacities = pickle.load(file)\n",
    "    numOfProjects = len(capacities)\n",
    "    c = pickle.load(file)\n",
    "    w = pickle.load(file)\n",
    "    edges = pickle.load(file)\n",
    "    nodes = pickle.load(file)\n",
    "    assignment = pickle.load(file)\n",
    "\n",
    "G = nx.Graph()\n",
    "G.add_edges_from(edges)\n",
    "n = len(nodes)\n",
    "\n",
    "print(f'number of nodes: {n}')\n",
    "print(f'number of (conflict) edges: {len(edges)}')\n",
    "print(f'number of projects: {numOfProjects}')\n",
    "print(f'projects {projects}')"
   ]
  },
  {
   "cell_type": "code",
   "execution_count": 3,
   "id": "7ad41e3c",
   "metadata": {},
   "outputs": [
    {
     "data": {
      "text/plain": [
       "{'PR': 1000, 'IT': 1000, 'Sales': 1000, 'HR': 1000}"
      ]
     },
     "execution_count": 3,
     "metadata": {},
     "output_type": "execute_result"
    }
   ],
   "source": [
    "capacities"
   ]
  },
  {
   "cell_type": "code",
   "execution_count": 4,
   "id": "778a01ba",
   "metadata": {},
   "outputs": [
    {
     "data": {
      "text/plain": [
       "16000"
      ]
     },
     "execution_count": 4,
     "metadata": {},
     "output_type": "execute_result"
    }
   ],
   "source": [
    "len(c)"
   ]
  },
  {
   "cell_type": "code",
   "execution_count": 5,
   "id": "71868f50",
   "metadata": {},
   "outputs": [],
   "source": [
    "lambda_mul = 1\n",
    "lambda_ = lambda_mul * sum(w.values()) / n"
   ]
  },
  {
   "cell_type": "markdown",
   "id": "c1f6ad8a",
   "metadata": {},
   "source": [
    "## Helper functions"
   ]
  },
  {
   "cell_type": "code",
   "execution_count": 41,
   "id": "156158e1",
   "metadata": {},
   "outputs": [],
   "source": [
    "# Define objective function\n",
    "def f(x):\n",
    "    res = 0\n",
    "    # project preference term\n",
    "    for u in nodes:\n",
    "        for p in projects:\n",
    "            if (u, p) in c and (u, p) in x:\n",
    "                res += c[(u, p)] * x[(u, p)]\n",
    "    res *= lambda_\n",
    "    \n",
    "    # conflict term\n",
    "    for e in edges:\n",
    "        u, v = e\n",
    "        inner_sum = 0\n",
    "        for p in projects:\n",
    "            if (u, p) in x and (v, p) in x:\n",
    "                inner_sum += x[(u, p)] * x[(v, p)]\n",
    "        res += w[(u, v)] * (1 - inner_sum)\n",
    "    return res\n",
    "\n",
    "# Pipage rounding\n",
    "def construct_graph(x):\n",
    "    H = nx.Graph()\n",
    "    H.add_nodes_from(nodes, bipartite=0)\n",
    "    H.add_nodes_from(projects, bipartite=1)\n",
    "    edges = [(u, p) for u in nodes for p in projects if (u, p) in x and not isclose(x[(u, p)], 0) and not isclose(x[(u, p)], 1)]\n",
    "    H.add_edges_from(edges)\n",
    "    return H\n",
    "\n",
    "def find_cycle(H):\n",
    "    try:\n",
    "        cycle = nx.find_cycle(H)\n",
    "    except Exception:\n",
    "        cycle = []\n",
    "    return cycle\n",
    "\n",
    "def find_path(graph):\n",
    "    def dfs_with_backtracking(vertex, path):\n",
    "        nonlocal max_path\n",
    "        path.append(vertex)\n",
    "\n",
    "        for neighbor in graph[vertex]:\n",
    "            if neighbor not in path:\n",
    "                dfs_with_backtracking(neighbor, path)\n",
    "\n",
    "        if len(path) > len(max_path):\n",
    "            max_path = path.copy()\n",
    "\n",
    "        path.pop()\n",
    "\n",
    "    max_path = []\n",
    "    for start_vertex in graph.nodes:\n",
    "        dfs_with_backtracking(start_vertex, [])\n",
    "        if max_path:\n",
    "            return list(zip(max_path, max_path[1:]))\n",
    "    \n",
    "    print(\"No path found...\")\n",
    "    return max_path\n",
    "\n",
    "def format_path(R):\n",
    "    R_new = deque()\n",
    "    for e in R:\n",
    "        u, p = e if e[0] in nodes else tuple(reversed(e)) # (student, project) edge\n",
    "        R_new.append((u, p))\n",
    "    return list(R_new)\n",
    "\n",
    "def calc_eps(x, R):\n",
    "    # Divide R into M1 and M2 matchings\n",
    "    M1 = R[::2]\n",
    "    M2 = R[1::2]\n",
    "    \n",
    "    # Calculate eps1, eps2\n",
    "    eps1 = min(min([x[e] for e in M1]), min([1 - x[e] for e in M2]))\n",
    "    eps2 = min(min([1 - x[e] for e in M1]), min([x[e] for e in M2]))\n",
    "    \n",
    "    return eps1, eps2, M1, M2\n",
    "\n",
    "def remove_dec_error(x):            \n",
    "    #only keep the keys corresponding to value 1\n",
    "    x_new = dict()\n",
    "    for e in x:\n",
    "        if isclose(x[e], 1):\n",
    "            x_new[e] = 1\n",
    "    return x_new\n",
    "\n",
    "def step(x, eps, M1, M2):\n",
    "    x_new = x.copy()\n",
    "    for e in M1:\n",
    "        x_new[e] += eps\n",
    "    for e in M2:\n",
    "        x_new[e] -= eps\n",
    "    return x_new\n",
    "\n",
    "def round(x, eps1, eps2, M1, M2):\n",
    "    x1 = step(x, -eps1, M1, M2)\n",
    "    x2 = step(x, eps2, M1, M2)\n",
    "    if f(x1) > f(x2):\n",
    "        return x1\n",
    "    return x2\n",
    "\n",
    "def rand_round(x, eps1, eps2, M1, M2):\n",
    "    rand = rand = random.uniform(0, 1)\n",
    "    if rand < eps1 / (eps1 + eps2):\n",
    "        x_new = step(x, -eps1, M1, M2)\n",
    "    else:\n",
    "        x_new = step(x, eps2, M1, M2)\n",
    "    return x_new\n",
    "    \n",
    "def clean_edges(x, H):\n",
    "    integral_edges = [e for e in H.edges if isclose(x[e], 0) or isclose(x[e], 1)]\n",
    "    H.remove_edges_from(integral_edges)\n",
    "    return H\n",
    "        \n",
    "def pipage_help(x, R):\n",
    "    R = format_path(R)\n",
    "    eps1, eps2, M1, M2 = calc_eps(x, R)\n",
    "    x_new = round(x, eps1, eps2, M1, M2)\n",
    "    return x_new\n",
    "\n",
    "def rand_pipage_help(x, R):\n",
    "    R = format_path(R)\n",
    "    eps1, eps2, M1, M2 = calc_eps(x, R)\n",
    "    x_new = rand_round(x, eps1, eps2, M1, M2)\n",
    "    return x_new\n",
    "\n",
    "def pipage(x, setting=\"deterministic\"):\n",
    "    H = construct_graph(x)    \n",
    "    numOfEdges = len(H.edges)\n",
    "    iterations = 1\n",
    "    while True:\n",
    "        R = find_cycle(H)\n",
    "        R = R if R else find_path(H)\n",
    "        if R:\n",
    "            x = pipage_help(x, R) if setting == 'deterministic' else rand_pipage_help(x, R)\n",
    "            clean_edges(x, H)\n",
    "        else:\n",
    "            return remove_dec_error(x)\n",
    "        \n",
    "        iterations += 1\n",
    "        if iterations > numOfEdges + 1:\n",
    "            print(\"exceeded numOfEdges iterations... Error\")\n",
    "            break\n",
    "    return \"error\""
   ]
  },
  {
   "cell_type": "markdown",
   "id": "be89218f",
   "metadata": {},
   "source": [
    "## 1/2 approximation algorithm using Convex Optimization"
   ]
  },
  {
   "cell_type": "code",
   "execution_count": 18,
   "id": "509d63d7",
   "metadata": {},
   "outputs": [
    {
     "name": "stdout",
     "output_type": "stream",
     "text": [
      "Creating model for 1/2 pipage algorithm ...\n",
      "Creating variables X[(u, p)] ...\n",
      "Adding constraints\n",
      "Creating the objective ...\n",
      "Done creating 1/2 pipage model\n"
     ]
    }
   ],
   "source": [
    "print(f'Creating model for 1/2 pipage algorithm ...')\n",
    "start = time()\n",
    "\n",
    "print(f'Creating variables X[(u, p)] ...')\n",
    "X = dict()\n",
    "for u in nodes:\n",
    "    for p in projects:\n",
    "        X[(u, p)] = cp.Variable()\n",
    "        \n",
    "# Add constraints\n",
    "print(f'Adding constraints')\n",
    "constr = list()\n",
    "\n",
    "# Each variable between 0 and 1\n",
    "for u in nodes:\n",
    "    for p in projects:\n",
    "        constr.append(X[(u, p)] >= 0)\n",
    "        constr.append(X[(u, p)] <= 1)\n",
    "        \n",
    "# Each student assigned to exactly one project\n",
    "for u in nodes:\n",
    "    constr.append(sum([X[(u, p)] for p in projects]) == 1)\n",
    "    \n",
    "# Project capacity constraints\n",
    "for p in projects:\n",
    "    constr.append(sum([X[(u, p)] for u in nodes]) <= capacities[p])\n",
    "\n",
    "print(f'Creating the objective ...')\n",
    "# Linear (project preference) term\n",
    "L1 = sum(c[(u, p)] * X[(u, p)] for u in nodes for p in projects)\n",
    "\n",
    "# max-cut (conflicts) term\n",
    "L2 = 0\n",
    "for e in edges:\n",
    "    u, v = e\n",
    "    L3 = cp.min(cp.vstack([2 - X[(u, p)] - X[(v, p)] for p in projects]))\n",
    "    L2 += w[e] * cp.minimum(1, L3)\n",
    "    \n",
    "obj = lambda_ * L1 + L2\n",
    "times[\"relax_model12\"] = time() - start\n",
    "print(f'Done creating 1/2 pipage model')"
   ]
  },
  {
   "cell_type": "code",
   "execution_count": 20,
   "id": "582f86b5",
   "metadata": {},
   "outputs": [],
   "source": [
    "pipage_model = cp.Problem(cp.Maximize(obj), constr)\n",
    "pipage_model.solve(verbose=True)"
   ]
  },
  {
   "cell_type": "code",
   "execution_count": 23,
   "id": "6e5fdb66",
   "metadata": {},
   "outputs": [
    {
     "name": "stdout",
     "output_type": "stream",
     "text": [
      "===============================================================================\n",
      "                                     CVXPY                                     \n",
      "                                     v1.3.2                                    \n",
      "===============================================================================\n",
      "(CVXPY) Sep 22 02:30:42 PM: Your problem has 16000 variables, 36004 constraints, and 0 parameters.\n",
      "(CVXPY) Sep 22 02:30:42 PM: It is compliant with the following grammars: DCP, DQCP\n",
      "(CVXPY) Sep 22 02:30:42 PM: (If you need to solve this problem multiple times, but with different data, consider using parameters.)\n",
      "(CVXPY) Sep 22 02:30:42 PM: CVXPY will first compile your problem; then, it will invoke a numerical solver to obtain a solution.\n",
      "-------------------------------------------------------------------------------\n",
      "                                  Compilation                                  \n",
      "-------------------------------------------------------------------------------\n",
      "(CVXPY) Sep 22 02:30:42 PM: Using cached ASA map, for faster compilation (bypassing reduction chain).\n",
      "(CVXPY) Sep 22 02:30:42 PM: Finished problem compilation (took 1.498e-02 seconds).\n",
      "-------------------------------------------------------------------------------\n",
      "                                Numerical solver                               \n",
      "-------------------------------------------------------------------------------\n",
      "(CVXPY) Sep 22 02:30:42 PM: Invoking solver ECOS  to obtain a solution.\n",
      "-------------------------------------------------------------------------------\n",
      "                                    Summary                                    \n",
      "-------------------------------------------------------------------------------\n",
      "(CVXPY) Sep 22 02:40:54 PM: Problem status: optimal\n",
      "(CVXPY) Sep 22 02:40:54 PM: Optimal value: 1.841e+04\n",
      "(CVXPY) Sep 22 02:40:54 PM: Compilation took 1.498e-02 seconds\n",
      "(CVXPY) Sep 22 02:40:54 PM: Solver (including time spent in interface) took 6.107e+02 seconds\n"
     ]
    },
    {
     "data": {
      "text/plain": [
       "18413.801647266508"
      ]
     },
     "execution_count": 23,
     "metadata": {},
     "output_type": "execute_result"
    }
   ],
   "source": []
  },
  {
   "cell_type": "code",
   "execution_count": 37,
   "id": "bdf6daf3",
   "metadata": {},
   "outputs": [],
   "source": [
    "if pipage_model.status == cp.OPTIMAL:\n",
    "    optimal_solution = pipage_model.value\n",
    "    x_frac = {key: var.value for key, var in X.items()}\n",
    "else:\n",
    "    print(\"Optimization problem is infeasible or failed to converge.\")"
   ]
  },
  {
   "cell_type": "code",
   "execution_count": 49,
   "id": "bd03561f",
   "metadata": {},
   "outputs": [],
   "source": [
    "x_pipage = pipage(x_frac, 'deterministic')"
   ]
  },
  {
   "cell_type": "code",
   "execution_count": 50,
   "id": "02fb90a9",
   "metadata": {},
   "outputs": [
    {
     "name": "stdout",
     "output_type": "stream",
     "text": [
      "Approximation ratio of 1/2-pipage algorithm = 0.864972109320099\n"
     ]
    }
   ],
   "source": [
    "obj_opt = 17484.095541401275\n",
    "obj_pipage = f(x_pipage)\n",
    "approx_pipage = obj_pipage / obj_opt\n",
    "print(f'Approximation ratio of 1/2-pipage algorithm = {approx_pipage}')"
   ]
  },
  {
   "cell_type": "markdown",
   "id": "b6c4c613",
   "metadata": {},
   "source": [
    "## 3/4 approximation algorithm using Convex Optimization"
   ]
  },
  {
   "cell_type": "code",
   "execution_count": 53,
   "id": "b968c518",
   "metadata": {},
   "outputs": [
    {
     "name": "stdout",
     "output_type": "stream",
     "text": [
      "Creating model for 3/4 approximation algorithm ...\n",
      "Creating variables X[(u, p)] ...\n",
      "Adding constraints\n",
      "Creating the objective ...\n",
      "Done creating 3/4 pipage model.\n"
     ]
    }
   ],
   "source": [
    "print(f'Creating model for 3/4 approximation algorithm ...')\n",
    "start = time()\n",
    "\n",
    "print(f'Creating variables X[(u, p)] ...')\n",
    "X = dict()\n",
    "for u in nodes:\n",
    "    for p in projects:\n",
    "        X[(u, p)] = cp.Variable()\n",
    "        \n",
    "# Add constraints\n",
    "print(f'Adding constraints')\n",
    "constr = list()\n",
    "\n",
    "# Each variable between 0 and 1\n",
    "for u in nodes:\n",
    "    for p in projects:\n",
    "        constr.append(X[(u, p)] >= 0)\n",
    "        constr.append(X[(u, p)] <= 1)\n",
    "        \n",
    "# Each student assigned to exactly one project\n",
    "for u in nodes:\n",
    "    constr.append(sum([X[(u, p)] for p in projects]) == 1)\n",
    "    \n",
    "# Project capacity constraints\n",
    "for p in projects:\n",
    "    constr.append(sum([X[(u, p)] for u in nodes]) <= capacities[p])\n",
    "\n",
    "print(f'Creating the objective ...')\n",
    "# Linear (project preference) term\n",
    "L1 = sum(c[(u, p)] * X[(u, p)] for u in nodes for p in projects)\n",
    "\n",
    "# max-cut (conflicts) term\n",
    "L2 = 0\n",
    "for e in edges:\n",
    "    u, v = e\n",
    "    L3 = sum([cp.minimum(1, X[(u, p)] + X[(v, p)]) for p in projects])\n",
    "    L2 += w[e] * L3\n",
    "    \n",
    "obj = lambda_ * L1 + L2\n",
    "print(f'Done creating 3/4 pipage model.')"
   ]
  },
  {
   "cell_type": "code",
   "execution_count": 54,
   "id": "e6c6f643",
   "metadata": {},
   "outputs": [
    {
     "name": "stdout",
     "output_type": "stream",
     "text": [
      "===============================================================================\n",
      "                                     CVXPY                                     \n",
      "                                     v1.3.2                                    \n",
      "===============================================================================\n",
      "(CVXPY) Sep 22 04:02:41 PM: Your problem has 16000 variables, 36004 constraints, and 0 parameters.\n",
      "(CVXPY) Sep 22 04:02:43 PM: It is compliant with the following grammars: DCP, DQCP\n",
      "(CVXPY) Sep 22 04:02:43 PM: (If you need to solve this problem multiple times, but with different data, consider using parameters.)\n",
      "(CVXPY) Sep 22 04:02:43 PM: CVXPY will first compile your problem; then, it will invoke a numerical solver to obtain a solution.\n",
      "-------------------------------------------------------------------------------\n",
      "                                  Compilation                                  \n",
      "-------------------------------------------------------------------------------\n",
      "(CVXPY) Sep 22 04:02:45 PM: Compiling problem (target solver=ECOS).\n",
      "(CVXPY) Sep 22 04:02:45 PM: Reduction chain: FlipObjective -> Dcp2Cone -> CvxAttr2Constr -> ConeMatrixStuffing -> ECOS\n",
      "(CVXPY) Sep 22 04:02:45 PM: Applying reduction FlipObjective\n",
      "(CVXPY) Sep 22 04:02:46 PM: Applying reduction Dcp2Cone\n",
      "(CVXPY) Sep 22 04:03:06 PM: Applying reduction CvxAttr2Constr\n",
      "(CVXPY) Sep 22 04:03:07 PM: Applying reduction ConeMatrixStuffing\n",
      "(CVXPY) Sep 22 04:05:08 PM: Applying reduction ECOS\n",
      "(CVXPY) Sep 22 04:05:35 PM: Finished problem compilation (took 1.717e+02 seconds).\n",
      "-------------------------------------------------------------------------------\n",
      "                                Numerical solver                               \n",
      "-------------------------------------------------------------------------------\n",
      "(CVXPY) Sep 22 04:05:35 PM: Invoking solver ECOS  to obtain a solution.\n",
      "\n",
      "ECOS 2.0.10 - (C) embotech GmbH, Zurich Switzerland, 2012-15. Web: www.embotech.com/ECOS\n",
      "\n",
      "It     pcost       dcost      gap   pres   dres    k/t    mu     step   sigma     IR    |   BT\n",
      " 0  -1.520e+04  -2.457e+05  +3e+05  1e-01  2e+00  1e+00  3e+00    ---    ---    2  2  - |  -  - \n",
      " 1  -1.927e+04  -9.298e+04  +2e+05  4e-02  9e-01  2e+00  2e+00  0.6165  3e-01   2  1  2 |  0  0\n",
      " 2  -1.851e+04  -4.743e+04  +9e+04  2e-02  4e-01  1e+00  9e-01  0.5786  2e-01   1  1  2 |  0  0\n",
      " 3  -1.844e+04  -3.254e+04  +5e+04  8e-03  2e-01  7e-01  5e-01  0.5518  2e-01   2  1  1 |  0  0\n",
      " 4  -1.837e+04  -2.597e+04  +3e+04  4e-03  1e-01  3e-01  3e-01  0.5541  2e-01   2  1  1 |  0  0\n",
      " 5  -1.836e+04  -2.199e+04  +1e+04  2e-03  5e-02  1e-01  1e-01  0.6731  2e-01   2  1  2 |  0  0\n",
      " 6  -1.837e+04  -2.056e+04  +7e+03  1e-03  3e-02  6e-02  8e-02  0.4851  2e-01   2  1  2 |  0  0\n",
      " 7  -1.839e+04  -1.960e+04  +4e+03  7e-04  2e-02  3e-02  4e-02  0.5533  2e-01   1  2  1 |  0  0\n",
      " 8  -1.840e+04  -1.907e+04  +2e+03  4e-04  9e-03  1e-02  2e-02  0.6302  3e-01   2  1  1 |  0  0\n",
      " 9  -1.840e+04  -1.882e+04  +1e+03  2e-04  5e-03  5e-03  2e-02  0.7080  5e-01   2  1  1 |  0  0\n",
      "10  -1.841e+04  -1.860e+04  +7e+02  1e-04  3e-03  2e-03  7e-03  0.6305  1e-01   2  1  2 |  0  0\n",
      "11  -1.841e+04  -1.854e+04  +4e+02  7e-05  2e-03  9e-04  5e-03  0.6856  5e-01   2  1  1 |  0  0\n",
      "12  -1.841e+04  -1.849e+04  +3e+02  4e-05  1e-03  5e-04  3e-03  0.5378  3e-01   2  1  1 |  0  0\n",
      "13  -1.841e+04  -1.846e+04  +1e+02  2e-05  6e-04  2e-04  2e-03  0.8467  5e-01   2  1  1 |  0  0\n",
      "14  -1.841e+04  -1.844e+04  +8e+01  1e-05  3e-04  1e-04  9e-04  0.5837  2e-01   2  1  1 |  0  0\n",
      "15  -1.841e+04  -1.843e+04  +5e+01  7e-06  2e-04  7e-05  5e-04  0.5379  2e-01   2  1  1 |  0  0\n",
      "16  -1.841e+04  -1.842e+04  +4e+01  6e-06  1e-04  6e-05  4e-04  0.3613  6e-01   2  1  1 |  0  0\n",
      "17  -1.841e+04  -1.842e+04  +2e+01  3e-06  8e-05  3e-05  2e-04  0.5637  2e-01   2  1  1 |  0  0\n",
      "18  -1.841e+04  -1.842e+04  +2e+01  3e-06  6e-05  2e-05  2e-04  0.4767  4e-01   2  1  1 |  0  0\n",
      "19  -1.841e+04  -1.842e+04  +7e+00  1e-06  3e-05  1e-05  7e-05  0.9055  4e-01   1  1  1 |  0  0\n",
      "20  -1.841e+04  -1.841e+04  +4e+00  7e-07  2e-05  6e-06  4e-05  0.7420  5e-01   2  1  1 |  0  0\n",
      "21  -1.841e+04  -1.841e+04  +2e+00  3e-07  6e-06  3e-06  2e-05  0.9072  4e-01   2  1  1 |  0  0\n",
      "22  -1.841e+04  -1.841e+04  +1e+00  2e-07  5e-06  2e-06  1e-05  0.6705  6e-01   2  1  1 |  0  0\n",
      "23  -1.841e+04  -1.841e+04  +7e-01  1e-07  3e-06  1e-06  7e-06  0.5046  8e-02   2  1  1 |  0  0\n",
      "24  -1.841e+04  -1.841e+04  +4e-01  7e-08  2e-06  6e-07  5e-06  0.8058  6e-01   2  1  1 |  0  0\n",
      "25  -1.841e+04  -1.841e+04  +2e-01  3e-08  7e-07  3e-07  2e-06  0.6016  7e-02   2  1  1 |  0  0\n",
      "26  -1.841e+04  -1.841e+04  +1e-01  2e-08  4e-07  1e-07  1e-06  0.5558  1e-01   2  1  1 |  0  0\n",
      "27  -1.841e+04  -1.841e+04  +4e-02  7e-09  2e-07  6e-08  4e-07  0.7845  3e-01   2  1  1 |  0  0\n",
      "28  -1.841e+04  -1.841e+04  +3e-02  5e-09  1e-07  5e-08  4e-07  0.4297  5e-01   3  1  1 |  0  0\n",
      "29  -1.841e+04  -1.841e+04  +1e-02  2e-09  4e-08  2e-08  1e-07  0.7168  5e-02   2  1  1 |  0  0\n",
      "30  -1.841e+04  -1.841e+04  +8e-03  1e-09  3e-08  1e-08  8e-08  0.6943  6e-01   2  1  1 |  0  0\n",
      "31  -1.841e+04  -1.841e+04  +4e-03  7e-10  2e-08  6e-09  5e-08  0.9890  6e-01   3  2  2 |  0  0\n",
      "32  -1.841e+04  -1.841e+04  +9e-04  2e-10  4e-09  1e-09  1e-08  0.8116  3e-02   3  1  1 |  0  0\n",
      "33  -1.841e+04  -1.841e+04  +1e-05  2e-12  5e-11  2e-11  1e-10  0.9890  2e-03   4  2  2 |  0  0\n",
      "\n",
      "OPTIMAL (within feastol=4.6e-11, reltol=6.6e-10, abstol=1.2e-05).\n",
      "Runtime: 610.743551 seconds.\n",
      "\n",
      "\n",
      "ECOS 2.0.10 - (C) embotech GmbH, Zurich Switzerland, 2012-15. Web: www.embotech.com/ECOS\n",
      "\n",
      "It     pcost       dcost      gap   pres   dres    k/t    mu     step   sigma     IR    |   BT\n",
      " 0  -3.328e+04  -1.576e+05  +4e+05  2e-01  1e+00  1e+00  3e+00    ---    ---    2  1  - |  -  - \n",
      " 1  -2.990e+04  -6.184e+04  +2e+05  4e-02  3e-01  2e+00  2e+00  0.7196  3e-01   1  1  2 |  0  0\n",
      " 2  -2.885e+04  -4.029e+04  +8e+04  1e-02  1e-01  9e-01  7e-01  0.6121  1e-01   2  2  1 |  0  0\n",
      " 3  -2.865e+04  -3.452e+04  +4e+04  7e-03  5e-02  4e-01  4e-01  0.5391  2-------------------------------------------------------------------------------\n",
      "                                    Summary                                    \n",
      "-------------------------------------------------------------------------------\n",
      "(CVXPY) Sep 22 04:20:51 PM: Problem status: optimal\n",
      "(CVXPY) Sep 22 04:20:51 PM: Optimal value: 2.858e+04\n",
      "(CVXPY) Sep 22 04:20:51 PM: Compilation took 1.717e+02 seconds\n",
      "(CVXPY) Sep 22 04:20:51 PM: Solver (including time spent in interface) took 9.151e+02 seconds\n"
     ]
    },
    {
     "data": {
      "text/plain": [
       "28579.80164733043"
      ]
     },
     "execution_count": 54,
     "metadata": {},
     "output_type": "execute_result"
    }
   ],
   "source": [
    "randpipage_model = cp.Problem(cp.Maximize(obj), constr)\n",
    "randpipage_model.solve(verbose=True)"
   ]
  },
  {
   "cell_type": "code",
   "execution_count": 56,
   "id": "d0d6a905",
   "metadata": {},
   "outputs": [],
   "source": [
    "if pipage_model.status == cp.OPTIMAL:\n",
    "    optimal_solution = randpipage_model.value\n",
    "    x_frac34 = {key: var.value for key, var in X.items()}\n",
    "else:\n",
    "    print(\"Optimization problem is infeasible or failed to converge.\")"
   ]
  },
  {
   "cell_type": "code",
   "execution_count": 58,
   "id": "fee8291d",
   "metadata": {},
   "outputs": [
    {
     "name": "stdout",
     "output_type": "stream",
     "text": [
      "Approximation ratio of 1/2-pipage algorithm = 0.8590163823136076\n"
     ]
    }
   ],
   "source": [
    "x_round34 = pipage(x_frac34, pipageSetting)\n",
    "obj_round34 = f(x_round34)\n",
    "approx_round34 = obj_round34 / obj_opt\n",
    "print(f'Approximation ratio of 1/2-pipage algorithm = {approx_round34}')"
   ]
  },
  {
   "cell_type": "code",
   "execution_count": null,
   "id": "f3270dd7",
   "metadata": {},
   "outputs": [],
   "source": []
  }
 ],
 "metadata": {
  "kernelspec": {
   "display_name": "Python 3 (ipykernel)",
   "language": "python",
   "name": "python3"
  },
  "language_info": {
   "codemirror_mode": {
    "name": "ipython",
    "version": 3
   },
   "file_extension": ".py",
   "mimetype": "text/x-python",
   "name": "python",
   "nbconvert_exporter": "python",
   "pygments_lexer": "ipython3",
   "version": "3.10.12"
  }
 },
 "nbformat": 4,
 "nbformat_minor": 5
}
