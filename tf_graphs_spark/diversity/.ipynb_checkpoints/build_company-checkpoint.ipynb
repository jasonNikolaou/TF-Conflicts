{
 "cells": [
  {
   "cell_type": "code",
   "execution_count": 1,
   "id": "82fe2ee5",
   "metadata": {},
   "outputs": [],
   "source": [
    "import pandas as pd\n",
    "import networkx as nx\n",
    "import numpy as np\n",
    "import pickle\n",
    "from collections import deque\n",
    "import random\n",
    "import matplotlib.pyplot as plt"
   ]
  },
  {
   "cell_type": "code",
   "execution_count": 2,
   "id": "dafb6f6a",
   "metadata": {},
   "outputs": [],
   "source": [
    "random.seed(42)\n",
    "HR_perc = 0.73\n",
    "IT_perc = 0.26\n",
    "PR_perc = 0.64\n",
    "sales_perc = 0.34\n",
    "\n",
    "total = 4000\n",
    "capacities = dict()\n",
    "capacities['HR'] = total / 4\n",
    "capacities['PR'] = total / 4\n",
    "capacities['IT'] = total / 4\n",
    "capacities['Sales'] = total / 4\n",
    "\n",
    "divisions = ['HR', 'PR', 'IT', 'Sales']\n",
    "\n",
    "ids = list(range(1, total+1))\n",
    "divisions = deque()\n",
    "gender = deque()\n",
    "\n",
    "def calc_gender(prob):\n",
    "    if random.uniform(0, 1) < prob:\n",
    "        gender.append('Female')\n",
    "    else:\n",
    "        gender.append('Male')\n",
    "        \n",
    "for i in range(1, total+1):\n",
    "    if i % 4 == 0:\n",
    "        divisions.append('HR')\n",
    "        calc_gender(HR_perc)\n",
    "    elif i % 4 == 1:\n",
    "        divisions.append('PR')\n",
    "        calc_gender(PR_perc)\n",
    "    elif i % 4 == 2:\n",
    "        divisions.append('IT')\n",
    "        calc_gender(IT_perc)\n",
    "    else:\n",
    "        divisions.append('Sales')\n",
    "        calc_gender(sales_perc)\n",
    "            \n",
    "data = {\n",
    "    'Id': ids,\n",
    "    'Division': divisions,\n",
    "    'Gender': gender\n",
    "}\n",
    "\n",
    "df = pd.DataFrame(data)"
   ]
  },
  {
   "cell_type": "code",
   "execution_count": null,
   "id": "7540c2cd",
   "metadata": {},
   "outputs": [],
   "source": [
    "df['Division'].unique()\n",
    "df.to_csv('DEI.csv', index=False)\n",
    "df"
   ]
  },
  {
   "cell_type": "code",
   "execution_count": 4,
   "id": "4aceea2a",
   "metadata": {},
   "outputs": [
    {
     "name": "stdout",
     "output_type": "stream",
     "text": [
      "Male = 2041\n",
      "Female = 1959\n"
     ]
    }
   ],
   "source": [
    "numOfMale = len(df[df['Gender'] == 'Male'])\n",
    "numOfFemale = len(df[df['Gender'] == 'Female'])\n",
    "print(f'Male = {numOfMale}')\n",
    "print(f'Female = {numOfFemale}')"
   ]
  },
  {
   "cell_type": "markdown",
   "id": "7fa8e883",
   "metadata": {},
   "source": [
    "### Assumptions\n",
    "We are going to move at most p-percent (e.g. 10%) of the employees of a department\n",
    "since we do not expect all of the employees to be willing and capable of changing departments\n",
    "and also making big changes comes with an overhead that will disrupt the productivity of the company."
   ]
  },
  {
   "cell_type": "code",
   "execution_count": 5,
   "id": "9e1e8b78",
   "metadata": {},
   "outputs": [],
   "source": [
    "divisions = list(df['Division'].unique())\n",
    "threshold = 0.1\n",
    "\n",
    "males = list(df[df['Gender'] == 'Male']['Id'])\n",
    "females = list(df[df['Gender'] == 'Female']['Id'])\n",
    "\n",
    "genders = ['Male', 'Female']\n",
    "employees = dict(zip(genders, [males, females]))"
   ]
  },
  {
   "cell_type": "markdown",
   "id": "db0535fb",
   "metadata": {},
   "source": [
    "## Project preferences and conflicts"
   ]
  },
  {
   "cell_type": "code",
   "execution_count": 6,
   "id": "f75f86b3",
   "metadata": {},
   "outputs": [],
   "source": [
    "c = dict()\n",
    "w = dict()\n",
    "G = nx.Graph()\n",
    "nodes = deque()\n",
    "\n",
    "for index, row in df.iterrows():\n",
    "    n = row['Id']\n",
    "    nodes.append(n)\n",
    "    division = row['Division']\n",
    "    gender = row['Gender']\n",
    "    \n",
    "    # Project preferences\n",
    "    for d in divisions:\n",
    "        c[(n, d)] = 0\n",
    "    c[(n, division)] = 1\n",
    "    \n",
    "    for div in divisions:\n",
    "        if div != divisions and random.uniform(0, 1) < threshold:\n",
    "            c[(n, div)] = 1\n",
    "    \n",
    "G.add_nodes_from(list(df['Id']))\n",
    "\n",
    "# Conflict edges between male employees\n",
    "for u in males:\n",
    "    for v in males:\n",
    "        if u >= v:\n",
    "            continue\n",
    "        # sparcification\n",
    "        if random.uniform(0, 1) <= 10 / numOfMale:\n",
    "            G.add_edge(u, v)\n",
    "\n",
    "for e in G.edges:\n",
    "    w[e] = 1"
   ]
  },
  {
   "cell_type": "code",
   "execution_count": 7,
   "id": "e8b94f12",
   "metadata": {},
   "outputs": [
    {
     "name": "stdout",
     "output_type": "stream",
     "text": [
      "# edges = 10166\n",
      "# nodes = 4000\n",
      "# males = 1959\n"
     ]
    }
   ],
   "source": [
    "edges = list(G.edges)\n",
    "nodes = list(G.nodes)\n",
    "print(f'# edges = {len(edges)}')\n",
    "print(f'# nodes = {len(nodes)}')\n",
    "print(f'# males = {numOfFemale}')"
   ]
  },
  {
   "cell_type": "code",
   "execution_count": 8,
   "id": "5fa70765",
   "metadata": {},
   "outputs": [],
   "source": [
    "assignment = dict(zip(list(df['Id']), list(df['Division'])))"
   ]
  },
  {
   "cell_type": "code",
   "execution_count": 9,
   "id": "060b76a1",
   "metadata": {},
   "outputs": [],
   "source": [
    "capacities = dict() \n",
    "for div in divisions:\n",
    "    capacities[div] = len(df[df['Division'] == div])"
   ]
  },
  {
   "cell_type": "code",
   "execution_count": 10,
   "id": "34540377",
   "metadata": {},
   "outputs": [],
   "source": [
    "with open(f'./DEI.pickle', 'wb') as file:\n",
    "    pickle.dump(divisions, file) # project names\n",
    "    pickle.dump(capacities, file) # max capacity for each project\n",
    "    pickle.dump(c, file) # project preferences\n",
    "    pickle.dump(w, file) # weights of conflict edges\n",
    "    pickle.dump(edges, file) # conflict edges\n",
    "    pickle.dump(nodes, file) # ids\n",
    "    pickle.dump(assignment, file) # manual project assignments\n",
    "    file.close()"
   ]
  },
  {
   "cell_type": "code",
   "execution_count": 11,
   "id": "2d1ab906",
   "metadata": {},
   "outputs": [
    {
     "name": "stdout",
     "output_type": "stream",
     "text": [
      "[718, 282]\n"
     ]
    }
   ],
   "source": [
    "IT_df = df[df['Division'] == 'IT']\n",
    "IT_total = len(IT_df)\n",
    "IT_male = IT_df[IT_df['Gender'] == 'Male']\n",
    "IT_female = IT_df[IT_df['Gender'] == 'Female']\n",
    "values = [len(v) for v in [IT_male, IT_female]]\n",
    "keys = ['male', 'female']\n",
    "print(values)"
   ]
  },
  {
   "cell_type": "code",
   "execution_count": 12,
   "id": "ad1cd768",
   "metadata": {},
   "outputs": [
    {
     "data": {
      "image/png": "[encoded data removed]",
      "text/plain": [
       "<Figure size 640x480 with 1 Axes>"
      ]
     },
     "metadata": {},
     "output_type": "display_data"
    }
   ],
   "source": [
    "plt.pie(values, labels=keys, autopct='%1.0f%%', normalize=True)\n",
    "plt.legend(loc='upper right')\n",
    "plt.show()"
   ]
  },
  {
   "cell_type": "code",
   "execution_count": 13,
   "id": "03cb3ee1",
   "metadata": {},
   "outputs": [],
   "source": [
    "def calc_percentages(division):\n",
    "    div_df = df[df['Division'] == division]\n",
    "\n",
    "    total = len(div_df)\n",
    "    male = div_df[div_df['Gender'] == 'Male']\n",
    "    female = div_df[div_df['Gender'] == 'Female']\n",
    "    \n",
    "    values = [len(v) for v in [male, female]]\n",
    "    keys = ['male', 'female']\n",
    "    percentages = [v / total for v in values]\n",
    "    return percentages"
   ]
  },
  {
   "cell_type": "code",
   "execution_count": 14,
   "id": "41eaf877",
   "metadata": {},
   "outputs": [
    {
     "data": {
      "image/png": "[encoded data removed]",
      "text/plain": [
       "<Figure size 640x480 with 1 Axes>"
      ]
     },
     "metadata": {},
     "output_type": "display_data"
    }
   ],
   "source": [
    "values = calc_percentages('HR')\n",
    "plt.pie(values, labels=keys, autopct='%1.0f%%', normalize=True)\n",
    "plt.legend(loc='upper right')\n",
    "plt.show()"
   ]
  },
  {
   "cell_type": "code",
   "execution_count": null,
   "id": "82b20598",
   "metadata": {},
   "outputs": [],
   "source": []
  },
  {
   "cell_type": "code",
   "execution_count": null,
   "id": "0c694046",
   "metadata": {},
   "outputs": [],
   "source": []
  }
 ],
 "metadata": {
  "kernelspec": {
   "display_name": "Python 3 (ipykernel)",
   "language": "python",
   "name": "python3"
  },
  "language_info": {
   "codemirror_mode": {
    "name": "ipython",
    "version": 3
   },
   "file_extension": ".py",
   "mimetype": "text/x-python",
   "name": "python",
   "nbconvert_exporter": "python",
   "pygments_lexer": "ipython3",
   "version": "3.10.12"
  }
 },
 "nbformat": 4,
 "nbformat_minor": 5
}
