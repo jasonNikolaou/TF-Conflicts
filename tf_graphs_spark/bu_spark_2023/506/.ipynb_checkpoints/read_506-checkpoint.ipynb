{
 "cells": [
  {
   "cell_type": "code",
   "execution_count": 1,
   "id": "4963f8dd",
   "metadata": {},
   "outputs": [],
   "source": [
    "import pandas as pd\n",
    "import networkx as nx\n",
    "import numpy as np\n",
    "import pickle"
   ]
  },
  {
   "cell_type": "code",
   "execution_count": 2,
   "id": "1c89e6a3",
   "metadata": {},
   "outputs": [],
   "source": [
    "file_path = '506_anon_fall2023.csv'\n",
    "df = pd.read_csv(file_path)\n",
    "cols = len(df.columns)\n",
    "prefType = 'Lin' # 'Exp', 'Lin', 'LinNorm'"
   ]
  },
  {
   "cell_type": "code",
   "execution_count": 3,
   "id": "f871a3ca",
   "metadata": {},
   "outputs": [
    {
     "data": {
      "text/plain": [
       "Index(['Are you interested in being a Team Representative? ',\n",
       "       'd580f6fedb5a7e8e112798ba7215c376', 'd544872a7a31ad80d4ec06d2ab3c106b',\n",
       "       'aed5a51831f1e9b3ea1d17ba844d32cd', 'd8576d770bc1e39ea2fec0dfef9c88a9',\n",
       "       '9c7028fd2f6e7005972bf543a45b2e06', 'a1ef38fb26b1b81ea66f46b5dc3e10c7',\n",
       "       '1ed3ddcaa6fab66fdd8673d0de207c3c', '5ce679da3f7693e797ab5fc5b5fb5ccd',\n",
       "       '058754028b379782720a5f1f2d3e5311', '889e7cf1f694a813051e599ade1a90e0',\n",
       "       'f51e4de107872409c4486cd4881297fb', '21a0065e54f798bad719b2afe776f71c',\n",
       "       'e93be764a63e55196107e7e2ab6e957b', '2b61e0b345dbfadd1a49bd03b7b789c6',\n",
       "       'id name', 'email anonymized', 'anonymized group preference'],\n",
       "      dtype='object')"
      ]
     },
     "execution_count": 3,
     "metadata": {},
     "output_type": "execute_result"
    }
   ],
   "source": [
    "df.columns"
   ]
  },
  {
   "cell_type": "code",
   "execution_count": 4,
   "id": "3a8322fb",
   "metadata": {},
   "outputs": [],
   "source": [
    "numOfProjects = 8\n",
    "columns_to_drop = ['id name']\n",
    "df_dropped_multiple = df.drop(columns=columns_to_drop)\n",
    "\n",
    "# If you want to modify the DataFrame in place, use inplace=True\n",
    "df.drop(columns=columns_to_drop, inplace=True)\n",
    "\n",
    "\n",
    "column_name_mapping = {\n",
    "    df.columns[0]: 'representative',\n",
    "    df.columns[-2]: 'id',\n",
    "    df.columns[-1]: 'friends'  \n",
    "}\n",
    "\n",
    "for i in range(1, numOfProjects+1):\n",
    "    column_name_mapping[df.columns[i]] = df.columns[i][-5:]+'A'\n",
    "    \n",
    "for i in range(numOfProjects + 1, numOfProjects + 7):\n",
    "    column_name_mapping[df.columns[i]] = f'time{i - numOfProjects}'\n",
    "\n",
    "df.rename(columns=column_name_mapping, inplace=True)"
   ]
  },
  {
   "cell_type": "code",
   "execution_count": 5,
   "id": "24feea4e",
   "metadata": {},
   "outputs": [
    {
     "data": {
      "text/plain": [
       "Index(['representative', '5c376A', 'c106bA', 'd32cdA', 'c88a9A', 'b2e06A',\n",
       "       'e10c7A', '07c3cA', 'b5ccdA', 'time1', 'time2', 'time3', 'time4',\n",
       "       'time5', 'time6', 'id', 'friends'],\n",
       "      dtype='object')"
      ]
     },
     "execution_count": 5,
     "metadata": {},
     "output_type": "execute_result"
    }
   ],
   "source": [
    "df.columns"
   ]
  },
  {
   "cell_type": "code",
   "execution_count": 6,
   "id": "bd5e7e92",
   "metadata": {},
   "outputs": [],
   "source": [
    "df['representative'].astype(str)\n",
    "df['representative'] = df['representative'].map({'No': 0, 'Maybe': 1, 'Yes': 1})\n",
    "# df = df.drop_duplicates(subset='id')\n",
    "# for i in range(1, 7):\n",
    "#     df[f'time{i}'] = df[f'time{i}'].map({'I am not available': 0, 'I am currently enrolled in this lab section': 1, 'I am available at this time, but not currently enrolled': 1})"
   ]
  },
  {
   "cell_type": "code",
   "execution_count": 7,
   "id": "ec3435bf",
   "metadata": {},
   "outputs": [
    {
     "name": "stdout",
     "output_type": "stream",
     "text": [
      "num of rows = 171\n"
     ]
    }
   ],
   "source": [
    "n = df.shape[0]\n",
    "print(f'num of rows = {n}')"
   ]
  },
  {
   "cell_type": "code",
   "execution_count": 8,
   "id": "0ffa0816",
   "metadata": {},
   "outputs": [],
   "source": [
    "# Add teams for the same project\n",
    "def replicate_projects(projects, k):\n",
    "    letters = ['B', 'C', 'D', 'E', 'F', 'G']\n",
    "    for p in projects:\n",
    "        root_proj = p + 'A'\n",
    "        for i in range(k-1):\n",
    "            df[p+letters[i]] = df[root_proj]\n",
    "            \n",
    "uniqueProjects = [p[:-1] for p in list(df.columns[1:numOfProjects+1])]\n",
    "replicate_projects(uniqueProjects, 6)"
   ]
  },
  {
   "cell_type": "code",
   "execution_count": 9,
   "id": "11d5e809",
   "metadata": {},
   "outputs": [
    {
     "data": {
      "text/plain": [
       "Index(['representative', '5c376A', 'c106bA', 'd32cdA', 'c88a9A', 'b2e06A',\n",
       "       'e10c7A', '07c3cA', 'b5ccdA', 'time1', 'time2', 'time3', 'time4',\n",
       "       'time5', 'time6', 'id', 'friends', '5c376B', '5c376C', '5c376D',\n",
       "       '5c376E', '5c376F', 'c106bB', 'c106bC', 'c106bD', 'c106bE', 'c106bF',\n",
       "       'd32cdB', 'd32cdC', 'd32cdD', 'd32cdE', 'd32cdF', 'c88a9B', 'c88a9C',\n",
       "       'c88a9D', 'c88a9E', 'c88a9F', 'b2e06B', 'b2e06C', 'b2e06D', 'b2e06E',\n",
       "       'b2e06F', 'e10c7B', 'e10c7C', 'e10c7D', 'e10c7E', 'e10c7F', '07c3cB',\n",
       "       '07c3cC', '07c3cD', '07c3cE', '07c3cF', 'b5ccdB', 'b5ccdC', 'b5ccdD',\n",
       "       'b5ccdE', 'b5ccdF'],\n",
       "      dtype='object')"
      ]
     },
     "execution_count": 9,
     "metadata": {},
     "output_type": "execute_result"
    }
   ],
   "source": [
    "df.columns"
   ]
  },
  {
   "cell_type": "code",
   "execution_count": 10,
   "id": "3f531e6d",
   "metadata": {},
   "outputs": [
    {
     "data": {
      "text/plain": [
       "Index(['07c3cA', '07c3cB', '07c3cC', '07c3cD', '07c3cE', '07c3cF', '5c376A',\n",
       "       '5c376B', '5c376C', '5c376D', '5c376E', '5c376F', 'b2e06A', 'b2e06B',\n",
       "       'b2e06C', 'b2e06D', 'b2e06E', 'b2e06F', 'b5ccdA', 'b5ccdB', 'b5ccdC',\n",
       "       'b5ccdD', 'b5ccdE', 'b5ccdF', 'c106bA', 'c106bB', 'c106bC', 'c106bD',\n",
       "       'c106bE', 'c106bF', 'c88a9A', 'c88a9B', 'c88a9C', 'c88a9D', 'c88a9E',\n",
       "       'c88a9F', 'd32cdA', 'd32cdB', 'd32cdC', 'd32cdD', 'd32cdE', 'd32cdF',\n",
       "       'e10c7A', 'e10c7B', 'e10c7C', 'e10c7D', 'e10c7E', 'e10c7F', 'time1',\n",
       "       'time2', 'time3', 'time4', 'time5', 'time6', 'id', 'representative',\n",
       "       'friends'],\n",
       "      dtype='object')"
      ]
     },
     "execution_count": 10,
     "metadata": {},
     "output_type": "execute_result"
    }
   ],
   "source": [
    "columns = sorted([col for col in list(df.columns) if col not in ['friends', 'representative', 'id', 'time1', 'time2', 'time3', 'time4',\n",
    "       'time5', 'time6']])\n",
    "columns += ['time1', 'time2', 'time3', 'time4', 'time5', 'time6', 'id', 'representative', 'friends']\n",
    "df = df[columns]\n",
    "df.columns"
   ]
  },
  {
   "cell_type": "code",
   "execution_count": 11,
   "id": "8f25f710",
   "metadata": {
    "scrolled": true
   },
   "outputs": [
    {
     "name": "stdout",
     "output_type": "stream",
     "text": [
      "# replicated projects = 48\n"
     ]
    }
   ],
   "source": [
    "numOfReplicatedProjects = len(df.columns) - 6 - 3\n",
    "print(f'# replicated projects = {numOfReplicatedProjects}')\n",
    "projects = list(df.columns[:numOfReplicatedProjects])"
   ]
  },
  {
   "cell_type": "code",
   "execution_count": 12,
   "id": "0136fda5",
   "metadata": {},
   "outputs": [],
   "source": [
    "c = dict()\n",
    "G = nx.Graph()\n",
    "nodes = [u[-5:] for u in list(df['id'])]\n",
    "assignment = dict()\n",
    "representatives = dict()\n",
    "times = dict()\n",
    "for index, row in df.iterrows():\n",
    "    id = str(row['id'])[-5:]\n",
    "    preferences = [int(row[p][:-2]) for p in projects]\n",
    "    for p, pref in zip(projects, preferences):\n",
    "        if prefType == 'Exp':\n",
    "            c[(id, p)] = 1 / pref\n",
    "        elif prefType == 'Lin':\n",
    "            c[(id, p)] = (numOfProjects - pref + 1)\n",
    "        elif prefType == 'LinNorm':\n",
    "            c[(id, p)] = (numOfProjects - pref + 1) / numOfProjects\n",
    "    \n",
    "    # friends\n",
    "    friends = row['friends'].strip(\"[]\").replace(\"'\", \"\").split(\",\")\n",
    "    for f in friends:\n",
    "        if f and not f.isspace():\n",
    "            G.add_edge(id, f[-5:])\n",
    "            \n",
    "    # represenatitive\n",
    "    representatives[id] = row['representative']\n",
    "    \n",
    "    # available times\n",
    "    times[id] = [row['time1'], row['time2'], row['time3'], row['time4'], row['time5'], row['time6']]\n",
    "    \n",
    "G.add_nodes_from(nodes)\n",
    "G_c = nx.complement(G)\n",
    "w = dict()\n",
    "for e in G_c.edges:\n",
    "    w[e] = 1\n",
    "edges = list(G_c.edges)"
   ]
  },
  {
   "cell_type": "code",
   "execution_count": 13,
   "id": "068e09f9",
   "metadata": {},
   "outputs": [
    {
     "data": {
      "text/plain": [
       "21     f1783cac86ca53071839053ec6134ef5\n",
       "31     779562ecdf573e0489bf4b076f5de07c\n",
       "79     f5651ba42e900a7afae603f451f8c4b3\n",
       "132    b462f3fb55ef32c7c60555c8fd6733f1\n",
       "140    badde86deac09ed20930e45c1c5ba0fd\n",
       "153    9c58e1512819ff94785865a622fa2ef3\n",
       "Name: id, dtype: object"
      ]
     },
     "execution_count": 13,
     "metadata": {},
     "output_type": "execute_result"
    }
   ],
   "source": [
    "duplicates = df[df['id'].duplicated()]['id']\n",
    "duplicates"
   ]
  },
  {
   "cell_type": "code",
   "execution_count": 14,
   "id": "d65e0978",
   "metadata": {},
   "outputs": [
    {
     "name": "stdout",
     "output_type": "stream",
     "text": [
      "number of unique students = 165\n",
      "number of (friends) edges = 155\n"
     ]
    }
   ],
   "source": [
    "print(f\"number of unique students = {len(G.nodes)}\")\n",
    "print(f'number of (friends) edges = {len(G.edges)}')"
   ]
  },
  {
   "cell_type": "code",
   "execution_count": 15,
   "id": "84162f4c",
   "metadata": {},
   "outputs": [
    {
     "name": "stdout",
     "output_type": "stream",
     "text": [
      "['I am not available', 'I am currently enrolled in this lab section', 'I am available at this time, but not currently enrolled', 'I am not available', 'I am not available', 'I am not available']\n"
     ]
    }
   ],
   "source": [
    "nodes = list(G.nodes)\n",
    "for u in nodes:\n",
    "    print(times[u])\n",
    "    break"
   ]
  },
  {
   "cell_type": "code",
   "execution_count": null,
   "id": "da1708df",
   "metadata": {},
   "outputs": [],
   "source": []
  },
  {
   "cell_type": "code",
   "execution_count": null,
   "id": "1df54c39",
   "metadata": {},
   "outputs": [],
   "source": []
  }
 ],
 "metadata": {
  "kernelspec": {
   "display_name": "Python 3 (ipykernel)",
   "language": "python",
   "name": "python3"
  },
  "language_info": {
   "codemirror_mode": {
    "name": "ipython",
    "version": 3
   },
   "file_extension": ".py",
   "mimetype": "text/x-python",
   "name": "python",
   "nbconvert_exporter": "python",
   "pygments_lexer": "ipython3",
   "version": "3.10.12"
  }
 },
 "nbformat": 4,
 "nbformat_minor": 5
}
