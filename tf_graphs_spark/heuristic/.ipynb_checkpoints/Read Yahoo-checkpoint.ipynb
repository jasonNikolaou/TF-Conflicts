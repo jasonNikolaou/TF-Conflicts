{
 "cells": [
  {
   "cell_type": "code",
   "execution_count": 1,
   "id": "3fb511b1",
   "metadata": {},
   "outputs": [],
   "source": [
    "import networkx as nx\n",
    "import numpy as np\n",
    "import pickle\n",
    "import random\n",
    "import matplotlib.pyplot as plt\n",
    "from matplotlib.pyplot import cm\n",
    "import scipy\n",
    "from collections import deque\n",
    "import seaborn as sns"
   ]
  },
  {
   "cell_type": "code",
   "execution_count": 2,
   "id": "f54a03ae",
   "metadata": {},
   "outputs": [],
   "source": [
    "ls = dict()\n",
    "\n",
    "for day in range(1, 31):\n",
    "    with open(f'./input/yahoo-{day}.pickle', 'rb') as file:\n",
    "        ls[day] = pickle.load(file)\n"
   ]
  },
  {
   "cell_type": "code",
   "execution_count": 3,
   "id": "e3685dfd",
   "metadata": {},
   "outputs": [],
   "source": [
    "tasks = set()\n",
    "nodes = set()\n",
    "c = dict() # task preferences\n",
    "capacities = dict()\n",
    "\n",
    "day = 1\n",
    "imp_list = ls[day]\n",
    "for x in imp_list:\n",
    "    keyword = str(x[0])\n",
    "    account_ids = x[1].keys()\n",
    "    impressions = min(int(x[2]), 100)\n",
    "    \n",
    "    new_nodes = [str(keyword) + str(imp) for imp in range(impressions)]\n",
    "    nodes.update(new_nodes)\n",
    "    tasks.update(account_ids)\n",
    "    \n",
    "    for n in new_nodes:\n",
    "        for acc in account_ids:\n",
    "            c[(n, acc)] = random.uniform(0, 1)\n",
    "            \n",
    "# Setup capacities\n",
    "for t in tasks:\n",
    "    capacities[t] = 120"
   ]
  },
  {
   "cell_type": "code",
   "execution_count": 4,
   "id": "0a38da0c",
   "metadata": {},
   "outputs": [],
   "source": [
    "# Add conflicts\n",
    "p = 1e-3\n",
    "w = dict()\n",
    "G = nx.Graph()\n",
    "for u in nodes:\n",
    "    for v in nodes:\n",
    "        if u < v:\n",
    "            if random.uniform(0, 1) < p:\n",
    "                G.add_edge(u, v)\n",
    "for e in G.edges():\n",
    "    w[e] = 1\n",
    "edges = list(G.edges())"
   ]
  },
  {
   "cell_type": "code",
   "execution_count": null,
   "id": "ce0eba27",
   "metadata": {},
   "outputs": [],
   "source": [
    "nx.draw(G)"
   ]
  },
  {
   "cell_type": "code",
   "execution_count": 5,
   "id": "1e7ac9e5",
   "metadata": {},
   "outputs": [
    {
     "name": "stdout",
     "output_type": "stream",
     "text": [
      "# of nodes = 8441\n",
      "# of tasks = 4772\n",
      "# of conflict edges = 35154\n",
      "total project capacities = 572640\n"
     ]
    }
   ],
   "source": [
    "print(f'# of nodes = {len(nodes)}')\n",
    "print(f'# of tasks = {len(tasks)}')\n",
    "print(f'# of conflict edges = {len(G.edges())}')\n",
    "print(f'total project capacities = {sum(capacities.values())}')"
   ]
  },
  {
   "cell_type": "code",
   "execution_count": 6,
   "id": "2f5074f4",
   "metadata": {},
   "outputs": [],
   "source": [
    "with open(f'./yahoo.pickle', 'wb') as file:\n",
    "    pickle.dump(tasks, file) # project names\n",
    "    pickle.dump(capacities, file) # max capacity for each project\n",
    "    pickle.dump(c, file) # project preferences\n",
    "    pickle.dump(w, file) # weights of conflict edges\n",
    "    pickle.dump(edges, file) # conflict edges\n",
    "    file.close()"
   ]
  },
  {
   "cell_type": "code",
   "execution_count": null,
   "id": "adb7f739",
   "metadata": {},
   "outputs": [],
   "source": []
  },
  {
   "cell_type": "code",
   "execution_count": null,
   "id": "df3227da",
   "metadata": {},
   "outputs": [],
   "source": []
  },
  {
   "cell_type": "code",
   "execution_count": null,
   "id": "32a195b8",
   "metadata": {},
   "outputs": [],
   "source": []
  }
 ],
 "metadata": {
  "kernelspec": {
   "display_name": "Python 3 (ipykernel)",
   "language": "python",
   "name": "python3"
  },
  "language_info": {
   "codemirror_mode": {
    "name": "ipython",
    "version": 3
   },
   "file_extension": ".py",
   "mimetype": "text/x-python",
   "name": "python",
   "nbconvert_exporter": "python",
   "pygments_lexer": "ipython3",
   "version": "3.10.12"
  }
 },
 "nbformat": 4,
 "nbformat_minor": 5
}
