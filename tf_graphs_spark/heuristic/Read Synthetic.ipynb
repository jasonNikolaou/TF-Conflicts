{
 "cells": [
  {
   "cell_type": "code",
   "execution_count": 1,
   "id": "8748f5e0",
   "metadata": {},
   "outputs": [],
   "source": [
    "import networkx as nx\n",
    "import numpy as np\n",
    "import pickle\n",
    "import matplotlib.pyplot as plt\n",
    "from matplotlib.pyplot import cm\n",
    "import scipy\n",
    "from collections import deque\n",
    "import seaborn as sns\n",
    "import random\n",
    "from dsd import *"
   ]
  },
  {
   "cell_type": "code",
   "execution_count": 2,
   "id": "f20eb993",
   "metadata": {},
   "outputs": [],
   "source": [
    "random.seed(422373)\n",
    "n = 10000\n",
    "m = int(n / 100)"
   ]
  },
  {
   "cell_type": "code",
   "execution_count": 3,
   "id": "f1f6289d",
   "metadata": {},
   "outputs": [],
   "source": [
    "nodes = [str(n) for n in list(range(n))]\n",
    "tasks = list(range(m))\n",
    "projCap = int(n/m) + 0.1 * (n/m)\n",
    "task_capacities = {t: projCap for t in tasks}\n",
    "node_capacities = {n: 5 for n in nodes}\n",
    "c = dict()\n",
    "w = dict()\n",
    "G = nx.Graph()\n",
    "p = 0.99"
   ]
  },
  {
   "cell_type": "code",
   "execution_count": 4,
   "id": "eea730bc",
   "metadata": {},
   "outputs": [
    {
     "name": "stdout",
     "output_type": "stream",
     "text": [
      "5006\n"
     ]
    }
   ],
   "source": [
    "for u in range(0, n, 100):\n",
    "    group_nodes = [str(n) for n in range(u, u + 100)]\n",
    "\n",
    "    # Add edges between individuals\n",
    "    group_graph = nx.Graph()\n",
    "    for v1 in group_nodes:\n",
    "        for v2 in group_nodes:\n",
    "            if v1 < v2:\n",
    "                if random.random() < p:\n",
    "                    group_graph.add_edge(v1, v2)\n",
    "                    \n",
    "    G = nx.union(G, group_graph)  \n",
    "    \n",
    "    # Select the main project of the team\n",
    "    t = int(u / 100)\n",
    "    for v in group_nodes:\n",
    "        c[(v, t)] = 1\n",
    "    \n",
    "    #Add one random task for each individual\n",
    "    for v in group_nodes:\n",
    "        t = random.randint(0, m)\n",
    "        c[(v, t)] = 1\n",
    "\n",
    "# Add random edges\n",
    "cnt = 0\n",
    "for u in nodes:\n",
    "    for v in nodes:\n",
    "        if u < v and random.random() < 1e-4:\n",
    "            cnt += 1\n",
    "            G.add_edge(u, v)\n",
    "print(cnt)"
   ]
  },
  {
   "cell_type": "code",
   "execution_count": 5,
   "id": "2cd0f659",
   "metadata": {},
   "outputs": [
    {
     "data": {
      "text/plain": [
       "495087"
      ]
     },
     "execution_count": 5,
     "metadata": {},
     "output_type": "execute_result"
    }
   ],
   "source": [
    "len(G.edges())"
   ]
  },
  {
   "cell_type": "code",
   "execution_count": 6,
   "id": "2a387eae",
   "metadata": {},
   "outputs": [],
   "source": [
    "G_c = nx.complement(G)\n",
    "# nx.draw(G)\n",
    "edges = list(G_c.edges())"
   ]
  },
  {
   "cell_type": "code",
   "execution_count": 7,
   "id": "c5c2198b",
   "metadata": {},
   "outputs": [],
   "source": [
    "for e in edges:\n",
    "    w[e] = 1"
   ]
  },
  {
   "cell_type": "code",
   "execution_count": 8,
   "id": "42c44459",
   "metadata": {},
   "outputs": [
    {
     "name": "stdout",
     "output_type": "stream",
     "text": [
      "# of nodes = 10000\n",
      "# of tasks = 100\n",
      "# of edges = 49499913\n"
     ]
    }
   ],
   "source": [
    "print(f'# of nodes = {len(nodes)}')\n",
    "print(f'# of tasks = {len(tasks)}')\n",
    "print(f'# of edges = {len(edges)}')"
   ]
  },
  {
   "cell_type": "code",
   "execution_count": 9,
   "id": "24b0f53d",
   "metadata": {},
   "outputs": [],
   "source": [
    "with open(f'./synth.pickle', 'wb') as file:\n",
    "    pickle.dump(tasks, file) # project names\n",
    "    pickle.dump(node_capacities, file) # max capacity for each node\n",
    "    pickle.dump(task_capacities, file) # max capacity for each task\n",
    "    pickle.dump(c, file) # project preferences\n",
    "    pickle.dump(w, file) # weights of conflict edges\n",
    "    pickle.dump(edges, file) # conflict edges\n",
    "    file.close()"
   ]
  },
  {
   "cell_type": "code",
   "execution_count": 10,
   "id": "5b6a24c8",
   "metadata": {},
   "outputs": [
    {
     "name": "stderr",
     "output_type": "stream",
     "text": [
      "\n",
      "KeyboardInterrupt\n",
      "\n"
     ]
    }
   ],
   "source": [
    "# for _ in range(5):\n",
    "#     dense = exact_densest(G)\n",
    "#     print(len(dense[0]))\n",
    "#     G.remove_nodes_from(dense[0])"
   ]
  },
  {
   "cell_type": "code",
   "execution_count": null,
   "id": "2c82991d",
   "metadata": {},
   "outputs": [],
   "source": []
  },
  {
   "cell_type": "code",
   "execution_count": null,
   "id": "4c505fda",
   "metadata": {},
   "outputs": [],
   "source": []
  }
 ],
 "metadata": {
  "kernelspec": {
   "display_name": "Python 3 (ipykernel)",
   "language": "python",
   "name": "python3"
  },
  "language_info": {
   "codemirror_mode": {
    "name": "ipython",
    "version": 3
   },
   "file_extension": ".py",
   "mimetype": "text/x-python",
   "name": "python",
   "nbconvert_exporter": "python",
   "pygments_lexer": "ipython3",
   "version": "3.10.12"
  }
 },
 "nbformat": 4,
 "nbformat_minor": 5
}
