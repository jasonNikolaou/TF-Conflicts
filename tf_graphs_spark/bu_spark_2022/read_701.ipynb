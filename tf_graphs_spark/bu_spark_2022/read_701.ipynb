{
 "cells": [
  {
   "cell_type": "code",
   "execution_count": 1,
   "id": "4963f8dd",
   "metadata": {},
   "outputs": [],
   "source": [
    "import pandas as pd\n",
    "import networkx as nx\n",
    "import numpy as np\n",
    "import pickle\n",
    "import numpy as np"
   ]
  },
  {
   "cell_type": "code",
   "execution_count": 2,
   "id": "1c89e6a3",
   "metadata": {},
   "outputs": [],
   "source": [
    "file_path = '701_anon.csv'\n",
    "df = pd.read_csv(file_path)\n",
    "cols = len(df.columns)\n",
    "prefType = 'LinNorm' # 'Exp', 'LinNorm'"
   ]
  },
  {
   "cell_type": "code",
   "execution_count": 3,
   "id": "f871a3ca",
   "metadata": {},
   "outputs": [
    {
     "data": {
      "text/plain": [
       "Index(['Are you interested in being a Team Representative? ',\n",
       "       '59f85917f60e41e5e6613affb3c5cf08', '75fa835c10c06ca20a5cb18840bcc148',\n",
       "       '94c1d8d6efd12aca34cf85faff366322', '7f862ceb4514e29f478e1e5154d8e19b',\n",
       "       'e0c95d01bed5b12ad176754dcc09eebc', 'da9b65da86aa5d93868c8ef135f5633d',\n",
       "       '11bf953de1068c3a1935afec294bdc42', '496f9ba8de22f1bdb6469bc5e72462d7',\n",
       "       'Mondays', 'Tuesdays', 'Wednesdays', 'Thursdays', 'Fridays', 'id name',\n",
       "       'email anonymized', 'anonymized group preference'],\n",
       "      dtype='object')"
      ]
     },
     "execution_count": 3,
     "metadata": {},
     "output_type": "execute_result"
    }
   ],
   "source": [
    "df.columns"
   ]
  },
  {
   "cell_type": "code",
   "execution_count": 4,
   "id": "3a8322fb",
   "metadata": {},
   "outputs": [],
   "source": [
    "numOfProjects = 8\n",
    "columns_to_drop = ['id name', 'Mondays', 'Tuesdays', 'Wednesdays', 'Thursdays', 'Fridays']\n",
    "df_dropped_multiple = df.drop(columns=columns_to_drop)\n",
    "\n",
    "# If you want to modify the DataFrame in place, use inplace=True\n",
    "df.drop(columns=columns_to_drop, inplace=True)\n",
    "\n",
    "\n",
    "column_name_mapping = {\n",
    "    df.columns[0]: 'representative',\n",
    "    df.columns[-2]: 'id',\n",
    "    df.columns[-1]: 'friends'  \n",
    "}\n",
    "\n",
    "for i in range(1, numOfProjects+1):\n",
    "    column_name_mapping[df.columns[i]] = df.columns[i][-5:]+'A'\n",
    "\n",
    "df.rename(columns=column_name_mapping, inplace=True)"
   ]
  },
  {
   "cell_type": "code",
   "execution_count": 5,
   "id": "24feea4e",
   "metadata": {},
   "outputs": [
    {
     "data": {
      "text/plain": [
       "Index(['representative', '5cf08A', 'cc148A', '66322A', '8e19bA', '9eebcA',\n",
       "       '5633dA', 'bdc42A', '462d7A', 'id', 'friends'],\n",
       "      dtype='object')"
      ]
     },
     "execution_count": 5,
     "metadata": {},
     "output_type": "execute_result"
    }
   ],
   "source": [
    "df.columns"
   ]
  },
  {
   "cell_type": "code",
   "execution_count": 6,
   "id": "bd5e7e92",
   "metadata": {},
   "outputs": [],
   "source": [
    "df['representative'].astype(str)\n",
    "df['representative'] = df['representative'].map({'No': 0, 'Maybe': 1, 'Yes': 1})\n",
    "# df = df.drop_duplicates(subset='id')\n"
   ]
  },
  {
   "cell_type": "code",
   "execution_count": 7,
   "id": "ec3435bf",
   "metadata": {},
   "outputs": [
    {
     "name": "stdout",
     "output_type": "stream",
     "text": [
      "num of rows = 37\n"
     ]
    }
   ],
   "source": [
    "n = df.shape[0]\n",
    "print(f'num of rows = {n}')"
   ]
  },
  {
   "cell_type": "code",
   "execution_count": 8,
   "id": "0ffa0816",
   "metadata": {},
   "outputs": [],
   "source": [
    "# Add teams for the same project\n",
    "def replicate_projects(projects, k):\n",
    "    letters = ['B', 'C', 'D', 'E', 'F', 'G']\n",
    "    for p in projects:\n",
    "        root_proj = p + 'A'\n",
    "        for i in range(k-1):\n",
    "            df[p+letters[i]] = df[root_proj]\n",
    "            \n",
    "uniqueProjects = [p[:-1] for p in list(df.columns[1:numOfProjects+1])]\n",
    "replicate_projects(['5cf08', '9eebc', '462d7'], 2)"
   ]
  },
  {
   "cell_type": "code",
   "execution_count": 9,
   "id": "11d5e809",
   "metadata": {},
   "outputs": [
    {
     "data": {
      "text/plain": [
       "Index(['representative', '5cf08A', 'cc148A', '66322A', '8e19bA', '9eebcA',\n",
       "       '5633dA', 'bdc42A', '462d7A', 'id', 'friends', '5cf08B', '9eebcB',\n",
       "       '462d7B'],\n",
       "      dtype='object')"
      ]
     },
     "execution_count": 9,
     "metadata": {},
     "output_type": "execute_result"
    }
   ],
   "source": [
    "df.columns"
   ]
  },
  {
   "cell_type": "code",
   "execution_count": 10,
   "id": "3f531e6d",
   "metadata": {},
   "outputs": [
    {
     "data": {
      "text/plain": [
       "Index(['462d7A', '462d7B', '5633dA', '5cf08A', '5cf08B', '66322A', '8e19bA',\n",
       "       '9eebcA', '9eebcB', 'bdc42A', 'cc148A', 'id', 'representative',\n",
       "       'friends'],\n",
       "      dtype='object')"
      ]
     },
     "execution_count": 10,
     "metadata": {},
     "output_type": "execute_result"
    }
   ],
   "source": [
    "columns = sorted([col for col in list(df.columns) if col not in ['id', 'representative', 'friends']])\n",
    "columns += [ 'id', 'representative', 'friends']\n",
    "df = df[columns]\n",
    "df.columns"
   ]
  },
  {
   "cell_type": "code",
   "execution_count": 11,
   "id": "8f25f710",
   "metadata": {
    "scrolled": true
   },
   "outputs": [
    {
     "name": "stdout",
     "output_type": "stream",
     "text": [
      "# replicated projects = 11\n"
     ]
    }
   ],
   "source": [
    "numOfUniqueProjects = 8\n",
    "numOfReplicatedProjects = len(df.columns) - 3\n",
    "print(f'# replicated projects = {numOfReplicatedProjects}')\n",
    "projects = list(df.columns[:numOfReplicatedProjects])"
   ]
  },
  {
   "cell_type": "code",
   "execution_count": 12,
   "id": "0136fda5",
   "metadata": {},
   "outputs": [
    {
     "data": {
      "text/plain": [
       "648"
      ]
     },
     "execution_count": 12,
     "metadata": {},
     "output_type": "execute_result"
    }
   ],
   "source": [
    "c = dict()\n",
    "G = nx.Graph()\n",
    "nodes = [u[-5:] for u in list(df['id'])]\n",
    "assignment = dict()\n",
    "representatives = dict()\n",
    "for index, row in df.iterrows():\n",
    "    id = str(row['id'])[-5:]\n",
    "    preferences = [int(row[p][:-2]) for p in projects]\n",
    "    for p, pref in zip(projects, preferences):\n",
    "        if prefType == 'Exp':\n",
    "            c[(id, p)] = 1 / pref\n",
    "        elif prefType == 'Lin':\n",
    "            c[(id, p)] = (numOfUniqueProjects - pref + 1)\n",
    "        elif prefType == 'LinNorm':\n",
    "            c[(id, p)] = (numOfUniqueProjects - pref + 1) / numOfUniqueProjects\n",
    "    \n",
    "    # friends\n",
    "    friends = row['friends'].strip(\"[]\").replace(\"'\", \"\").split(\",\")\n",
    "    for f in friends:\n",
    "        if f and not f.isspace():\n",
    "            G.add_edge(id, f[-5:])\n",
    "            \n",
    "    # represenatitive\n",
    "    representatives[id] = row['representative']\n",
    "    \n",
    "G.add_nodes_from(nodes)\n",
    "G_c = nx.complement(G)\n",
    "w = dict()\n",
    "for e in G_c.edges:\n",
    "    w[e] = 1\n",
    "edges = list(G_c.edges)\n",
    "len(edges)"
   ]
  },
  {
   "cell_type": "code",
   "execution_count": 13,
   "id": "d65e0978",
   "metadata": {},
   "outputs": [
    {
     "name": "stdout",
     "output_type": "stream",
     "text": [
      "number of unique students = 37\n",
      "number of (friends) edges = 18\n",
      "number of conflict edges (include time conflicts) = 648\n"
     ]
    }
   ],
   "source": [
    "print(f\"number of unique students = {len(G.nodes)}\")\n",
    "print(f'number of (friends) edges = {len(G.edges)}')\n",
    "print(f'number of conflict edges (include time conflicts) = {len(G_c.edges)}')"
   ]
  },
  {
   "cell_type": "code",
   "execution_count": 14,
   "id": "1df54c39",
   "metadata": {},
   "outputs": [],
   "source": [
    "max_capacities = dict()\n",
    "for p in projects:\n",
    "    max_capacities[p] = 5"
   ]
  },
  {
   "cell_type": "code",
   "execution_count": 15,
   "id": "b2049fcd",
   "metadata": {},
   "outputs": [],
   "source": [
    "with open(f'./csDS701_{prefType}.pickle', 'wb') as file:\n",
    "    pickle.dump(projects, file) # project names\n",
    "    pickle.dump(max_capacities, file) # max capacity for each project\n",
    "    pickle.dump(c, file) # project preferences\n",
    "    pickle.dump(w, file) # weights of conflict edges\n",
    "    pickle.dump(edges, file) # conflict edges\n",
    "    pickle.dump(representatives, file) # representatives\n",
    "    file.close()"
   ]
  },
  {
   "cell_type": "code",
   "execution_count": null,
   "id": "49cdda33",
   "metadata": {},
   "outputs": [],
   "source": []
  }
 ],
 "metadata": {
  "kernelspec": {
   "display_name": "Python 3 (ipykernel)",
   "language": "python",
   "name": "python3"
  },
  "language_info": {
   "codemirror_mode": {
    "name": "ipython",
    "version": 3
   },
   "file_extension": ".py",
   "mimetype": "text/x-python",
   "name": "python",
   "nbconvert_exporter": "python",
   "pygments_lexer": "ipython3",
   "version": "3.10.12"
  }
 },
 "nbformat": 4,
 "nbformat_minor": 5
}
