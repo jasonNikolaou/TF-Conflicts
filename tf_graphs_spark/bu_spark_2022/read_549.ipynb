{
 "cells": [
  {
   "cell_type": "code",
   "execution_count": 1,
   "id": "5257f87a",
   "metadata": {},
   "outputs": [],
   "source": [
    "import pandas as pd\n",
    "import networkx as nx\n",
    "import numpy as np\n",
    "import pickle"
   ]
  },
  {
   "cell_type": "code",
   "execution_count": 2,
   "id": "f01daaf9",
   "metadata": {},
   "outputs": [
    {
     "name": "stdout",
     "output_type": "stream",
     "text": [
      "Index(['id name', 'email anonymized',\n",
      "       'Are you interested in being a Team Representative? ',\n",
      "       '42fe167ba501618b6249f01a553922a5', '23b905f8978c9602a332c6d4db5e4dfc',\n",
      "       '0c191666595f4572b1a4b119d79f1b27', '10d6e34993468045bda816cf681db42f',\n",
      "       '2f69412091650d9c399b76adc16cfa1d', '34feab0fb7e895c79bef8e170d499fb8',\n",
      "       'anonymized group preference', 'anonymized project assignment'],\n",
      "      dtype='object')\n"
     ]
    }
   ],
   "source": [
    "file_path = '549_anon.csv'\n",
    "df = pd.read_csv(file_path)\n",
    "cols = len(df.columns)\n",
    "print(df.columns)"
   ]
  },
  {
   "cell_type": "code",
   "execution_count": 3,
   "id": "a8489e70",
   "metadata": {},
   "outputs": [
    {
     "data": {
      "text/plain": [
       "11"
      ]
     },
     "execution_count": 3,
     "metadata": {},
     "output_type": "execute_result"
    }
   ],
   "source": [
    "cols"
   ]
  },
  {
   "cell_type": "code",
   "execution_count": 4,
   "id": "8f168fd9",
   "metadata": {},
   "outputs": [],
   "source": [
    "numOfProjects = 6\n",
    "columns_to_drop = ['email anonymized']\n",
    "df_dropped_multiple = df.drop(columns=columns_to_drop)\n",
    "\n",
    "# If you want to modify the DataFrame in place, use inplace=True\n",
    "df.drop(columns=columns_to_drop, inplace=True)\n",
    "\n",
    "\n",
    "column_name_mapping = {\n",
    "    df.columns[0]: 'id',\n",
    "    df.columns[1]: 'representative',\n",
    "    df.columns[-2]: 'friends',\n",
    "    df.columns[-1]: 'assignment'  \n",
    "}\n",
    "\n",
    "\n",
    "for i in range(2, numOfProjects + 2):\n",
    "    column_name_mapping[df.columns[i]] = df.columns[i][-5:]\n",
    "    \n",
    "df.rename(columns=column_name_mapping, inplace=True)"
   ]
  },
  {
   "cell_type": "code",
   "execution_count": 5,
   "id": "6697e6e6",
   "metadata": {},
   "outputs": [
    {
     "data": {
      "text/plain": [
       "Index(['id', 'representative', '922a5', 'e4dfc', 'f1b27', 'db42f', 'cfa1d',\n",
       "       '99fb8', 'friends', 'assignment'],\n",
       "      dtype='object')"
      ]
     },
     "execution_count": 5,
     "metadata": {},
     "output_type": "execute_result"
    }
   ],
   "source": [
    "df.columns"
   ]
  },
  {
   "cell_type": "code",
   "execution_count": 6,
   "id": "c3437e96",
   "metadata": {},
   "outputs": [],
   "source": [
    "df['representative'].astype(str)\n",
    "df['representative'] = df['representative'].map({'No': 0, 'Maybe': 1, 'Yes': 1})"
   ]
  },
  {
   "cell_type": "code",
   "execution_count": 7,
   "id": "ec5c69a3",
   "metadata": {},
   "outputs": [
    {
     "name": "stdout",
     "output_type": "stream",
     "text": [
      "num of students = 26\n"
     ]
    }
   ],
   "source": [
    "n = df.shape[0]\n",
    "print(f'num of students = {n}')"
   ]
  },
  {
   "cell_type": "code",
   "execution_count": 8,
   "id": "edfa4cb2",
   "metadata": {},
   "outputs": [
    {
     "data": {
      "text/plain": [
       "['922a5', 'e4dfc', 'f1b27', 'db42f', 'cfa1d', '99fb8']"
      ]
     },
     "execution_count": 8,
     "metadata": {},
     "output_type": "execute_result"
    }
   ],
   "source": [
    "projects = [p for p in list(df.columns[2:numOfProjects+2])]\n",
    "projects"
   ]
  },
  {
   "cell_type": "code",
   "execution_count": 9,
   "id": "299f34be",
   "metadata": {},
   "outputs": [],
   "source": [
    "c = dict()\n",
    "G = nx.Graph()\n",
    "nodes = []\n",
    "assignment = dict()\n",
    "representatives = dict()\n",
    "for i in range(len(df)):\n",
    "    row = df.iloc[i]\n",
    "    id = row[0]\n",
    "    id = id[-5:]\n",
    "    assignment[id] = str(row[numOfProjects+3])[-5:]\n",
    "    nodes.append(id)\n",
    "    preferences = [int(p[:-2]) if type(p) == str else len(projects) for p in row[2:numOfProjects+2]]\n",
    "    \n",
    "    for p, pref in zip(projects, preferences):\n",
    "        c[(str(id), p)] = (numOfProjects - pref + 1) / numOfProjects\n",
    "        \n",
    "    \n",
    "    # friends\n",
    "    friends = row[numOfProjects+2].strip(\"[]\").replace(\"'\", \"\").split(\",\")\n",
    "    for f in friends:\n",
    "        if f:\n",
    "            G.add_edge(id, f[-5:])\n",
    "            \n",
    "    # represenatitive\n",
    "    representatives[id] = row[1]\n",
    "    \n",
    "G.add_nodes_from(nodes)\n",
    "G_c = nx.complement(G)\n",
    "w = dict()\n",
    "for e in G_c.edges:\n",
    "    w[e] = 1\n",
    "edges = list(G_c.edges)"
   ]
  },
  {
   "cell_type": "code",
   "execution_count": 10,
   "id": "be11c812",
   "metadata": {},
   "outputs": [
    {
     "name": "stdout",
     "output_type": "stream",
     "text": [
      "[('7b1b9', '7e351'), ('cfc5f', '8b401'), ('f6abd', 'eef1d'), ('7fd51', 'f72f3'), ('7fd51', 'ac44e'), ('f72f3', '1336f'), ('1336f', 'ac44e'), ('a3004', 'ebf2d'), ('a3004', '97c9a'), ('ebf2d', '97c9a'), ('e4cdc', '88177'), ('88177', '07ba3'), ('1a1ba', '83784'), ('dbeb4', 'db1a9')]\n"
     ]
    },
    {
     "data": {
      "image/png": "[encoded data removed]",
      "text/plain": [
       "<Figure size 640x480 with 1 Axes>"
      ]
     },
     "metadata": {},
     "output_type": "display_data"
    }
   ],
   "source": [
    "# friends graph\n",
    "print(G.edges)\n",
    "nx.draw(G, pos=nx.spring_layout(G, k=0.2, iterations=20), with_labels=True)"
   ]
  },
  {
   "cell_type": "code",
   "execution_count": 11,
   "id": "bf323cbb",
   "metadata": {},
   "outputs": [],
   "source": [
    "max_capacities = dict()\n",
    "for p in projects:\n",
    "    max_capacities[p] = 4\n",
    "max_capacities['db42f'] = 6\n",
    "edges = list(G_c.edges)"
   ]
  },
  {
   "cell_type": "code",
   "execution_count": 12,
   "id": "f571f7b1",
   "metadata": {},
   "outputs": [],
   "source": [
    "with open(f'./csDS549_LinNorm.pickle', 'wb') as file:\n",
    "    pickle.dump(projects, file) # project names\n",
    "    pickle.dump(max_capacities, file) # max capacity for each project\n",
    "    pickle.dump(c, file) # project preferences\n",
    "    pickle.dump(w, file) # weights of conflict edges\n",
    "    pickle.dump(edges, file) # conflict edges\n",
    "    pickle.dump(assignment, file) # manual project assignments\n",
    "    pickle.dump(representatives, file) # representatives\n",
    "    file.close()"
   ]
  },
  {
   "cell_type": "code",
   "execution_count": 13,
   "id": "1ccd3932",
   "metadata": {},
   "outputs": [
    {
     "data": {
      "text/plain": [
       "26"
      ]
     },
     "execution_count": 13,
     "metadata": {},
     "output_type": "execute_result"
    }
   ],
   "source": [
    "len(G.nodes)"
   ]
  },
  {
   "cell_type": "code",
   "execution_count": 14,
   "id": "bb17428d",
   "metadata": {},
   "outputs": [
    {
     "name": "stdout",
     "output_type": "stream",
     "text": [
      "['7b1b9', '7e351', 'cfc5f', '8b401', 'f6abd', 'eef1d', '7fd51', 'f72f3', '1336f', 'ac44e', 'a3004', 'ebf2d', '97c9a', 'e4cdc', '88177', '07ba3', '1a1ba', '83784', 'dbeb4', 'db1a9', 'e116c', 'd7530', '57a36', 'a7e74', 'a7efa', '133c7']\n"
     ]
    }
   ],
   "source": [
    "print(G.nodes)"
   ]
  },
  {
   "cell_type": "code",
   "execution_count": 15,
   "id": "32b7c04c",
   "metadata": {},
   "outputs": [
    {
     "data": {
      "text/plain": [
       "{'e116c': '922a5',\n",
       " '7b1b9': 'db42f',\n",
       " 'd7530': 'e4dfc',\n",
       " 'cfc5f': '99fb8',\n",
       " '8b401': '99fb8',\n",
       " 'f6abd': 'f1b27',\n",
       " 'eef1d': 'f1b27',\n",
       " '7e351': 'db42f',\n",
       " '57a36': 'cfa1d',\n",
       " '7fd51': 'db42f',\n",
       " '1336f': 'cfa1d',\n",
       " 'f72f3': 'db42f',\n",
       " 'ac44e': 'cfa1d',\n",
       " 'a3004': 'e4dfc',\n",
       " '83784': '99fb8',\n",
       " 'a7e74': 'f1b27',\n",
       " 'ebf2d': 'e4dfc',\n",
       " 'db1a9': '99fb8',\n",
       " 'e4cdc': '922a5',\n",
       " '07ba3': '922a5',\n",
       " 'a7efa': 'f1b27',\n",
       " '1a1ba': '99fb8',\n",
       " '97c9a': 'cfa1d',\n",
       " '88177': '922a5',\n",
       " 'dbeb4': 'e4dfc',\n",
       " '133c7': '99fb8'}"
      ]
     },
     "execution_count": 15,
     "metadata": {},
     "output_type": "execute_result"
    }
   ],
   "source": [
    "assignment"
   ]
  },
  {
   "cell_type": "code",
   "execution_count": null,
   "id": "51eb5c32",
   "metadata": {},
   "outputs": [],
   "source": []
  }
 ],
 "metadata": {
  "kernelspec": {
   "display_name": "Python 3 (ipykernel)",
   "language": "python",
   "name": "python3"
  },
  "language_info": {
   "codemirror_mode": {
    "name": "ipython",
    "version": 3
   },
   "file_extension": ".py",
   "mimetype": "text/x-python",
   "name": "python",
   "nbconvert_exporter": "python",
   "pygments_lexer": "ipython3",
   "version": "3.10.12"
  }
 },
 "nbformat": 4,
 "nbformat_minor": 5
}
