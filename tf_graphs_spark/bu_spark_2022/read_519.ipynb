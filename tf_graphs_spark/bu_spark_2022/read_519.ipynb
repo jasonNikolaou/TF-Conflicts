{
 "cells": [
  {
   "cell_type": "code",
   "execution_count": 1,
   "id": "5257f87a",
   "metadata": {},
   "outputs": [],
   "source": [
    "import pandas as pd\n",
    "import networkx as nx\n",
    "import numpy as np\n",
    "import pickle"
   ]
  },
  {
   "cell_type": "code",
   "execution_count": 2,
   "id": "f01daaf9",
   "metadata": {},
   "outputs": [
    {
     "name": "stdout",
     "output_type": "stream",
     "text": [
      "Index(['id name', 'email anonymized',\n",
      "       'Are you interested in being a Team Representative?',\n",
      "       '7a75ab71fa22b16b46ba3f613b6b9190', 'dc9097f80efd29e78d187c213cf86839',\n",
      "       'fd222948eb5ce5a374b584f592d62a95', 'e003da2208142442143a2c99d6229c21',\n",
      "       '76ce2db74e4adff27dc1be09f0114ebd', 'b28da00b395a935f9baff9af346fc925',\n",
      "       '8ea840a44890d2e1d4625ef0ff9f5c70', '408efb5f3a0dbce8558ce108c23902c6',\n",
      "       'e670c90a413a5d25c65d5807603a918c', '584736cb8f6fa435b7bf2558a0763a0e',\n",
      "       '[Mondays]', '[Tuesdays]', '[Wednesdays]', '[Thursdays]', '[Fridays]',\n",
      "       'anonymized group preference', 'anonymized project assignment'],\n",
      "      dtype='object')\n"
     ]
    }
   ],
   "source": [
    "file_path = '519_anon.csv'\n",
    "df = pd.read_csv(file_path)\n",
    "df = df[df['id name'] != '38812a9d40822bce8c5fccbfcd1a43b8'] # remove student\n",
    "cols = len(df.columns)\n",
    "print(df.columns)"
   ]
  },
  {
   "cell_type": "code",
   "execution_count": 3,
   "id": "8f168fd9",
   "metadata": {},
   "outputs": [],
   "source": [
    "numOfProjects = 7\n",
    "columns_to_drop = ['email anonymized','[Mondays]', '[Tuesdays]', '[Wednesdays]', '[Thursdays]', '[Fridays]',\n",
    "                  '7a75ab71fa22b16b46ba3f613b6b9190', 'fd222948eb5ce5a374b584f592d62a95',\n",
    "                  'e670c90a413a5d25c65d5807603a918c']\n",
    "df_dropped_multiple = df.drop(columns=columns_to_drop)\n",
    "\n",
    "# If you want to modify the DataFrame in place, use inplace=True\n",
    "df.drop(columns=columns_to_drop, inplace=True)\n",
    "\n",
    "\n",
    "column_name_mapping = {\n",
    "    df.columns[0]: 'id',\n",
    "    df.columns[1]: 'representative',\n",
    "    df.columns[-2]: 'friends',\n",
    "    df.columns[-1]: 'assignment'  \n",
    "}\n",
    "\n",
    "for i in range(2, numOfProjects + 2):\n",
    "    column_name_mapping[df.columns[i]] = df.columns[i][-5:]\n",
    "    \n",
    "df.rename(columns=column_name_mapping, inplace=True)"
   ]
  },
  {
   "cell_type": "code",
   "execution_count": 4,
   "id": "6697e6e6",
   "metadata": {},
   "outputs": [
    {
     "data": {
      "text/plain": [
       "Index(['id', 'representative', '86839', '29c21', '14ebd', 'fc925', 'f5c70',\n",
       "       '902c6', '63a0e', 'friends', 'assignment'],\n",
       "      dtype='object')"
      ]
     },
     "execution_count": 4,
     "metadata": {},
     "output_type": "execute_result"
    }
   ],
   "source": [
    "df.columns"
   ]
  },
  {
   "cell_type": "code",
   "execution_count": 5,
   "id": "c3437e96",
   "metadata": {},
   "outputs": [],
   "source": [
    "df['representative'].astype(str)\n",
    "df['representative'] = df['representative'].map({'No': 0, 'Maybe': 1, 'Yes': 1})"
   ]
  },
  {
   "cell_type": "code",
   "execution_count": 6,
   "id": "ec5c69a3",
   "metadata": {},
   "outputs": [
    {
     "name": "stdout",
     "output_type": "stream",
     "text": [
      "num of students = 28\n"
     ]
    }
   ],
   "source": [
    "n = df.shape[0]\n",
    "print(f'num of students = {n}')"
   ]
  },
  {
   "cell_type": "code",
   "execution_count": 7,
   "id": "edfa4cb2",
   "metadata": {},
   "outputs": [
    {
     "data": {
      "text/plain": [
       "7"
      ]
     },
     "execution_count": 7,
     "metadata": {},
     "output_type": "execute_result"
    }
   ],
   "source": [
    "projects = [p for p in list(df.columns[2:numOfProjects+2])]\n",
    "len(projects)"
   ]
  },
  {
   "cell_type": "code",
   "execution_count": 8,
   "id": "299f34be",
   "metadata": {},
   "outputs": [],
   "source": [
    "c = dict()\n",
    "G = nx.Graph()\n",
    "nodes = []\n",
    "assignment = dict()\n",
    "representatives = dict()\n",
    "for i in range(len(df)):\n",
    "    row = df.iloc[i]\n",
    "    id = row[0]\n",
    "    id = id[-5:]\n",
    "    assignment[id] = str(row[numOfProjects+3])[-5:]\n",
    "    nodes.append(id)\n",
    "    preferences = [int(p[:-2]) if type(p) == str else len(projects) for p in row[2:numOfProjects+2]]\n",
    "    for p, pref in zip(projects, preferences):\n",
    "        if pref > 7:\n",
    "            pref = 7\n",
    "        c[(str(id), p)] = (len(projects) - pref + 1) / len(projects)\n",
    "        if c[(str(id), p)] < 0:\n",
    "            print(pref)\n",
    "    \n",
    "    # friends\n",
    "    friends = row[numOfProjects+2].strip(\"[]\").replace(\"'\", \"\").split(\",\")\n",
    "    for f in friends:\n",
    "        if f:\n",
    "            G.add_edge(id, f[-5:])\n",
    "            \n",
    "    # represenatitive\n",
    "    representatives[id] = row[1]\n",
    "    \n",
    "G.add_nodes_from(nodes)\n",
    "G_c = nx.complement(G)\n",
    "w = dict()\n",
    "for e in G_c.edges:\n",
    "    w[e] = 1\n",
    "edges = list(G_c.edges)"
   ]
  },
  {
   "cell_type": "code",
   "execution_count": 9,
   "id": "be11c812",
   "metadata": {},
   "outputs": [
    {
     "name": "stdout",
     "output_type": "stream",
     "text": [
      "[('86b6e', '10cde'), ('6aff8', 'd8c36'), ('6aff8', 'd67c3'), ('6aff8', '0a1e9'), ('6aff8', 'b6861'), ('d8c36', 'b6861'), ('d8c36', 'd67c3'), ('d8c36', '0a1e9'), ('d67c3', 'b6861'), ('d67c3', '0a1e9'), ('0a1e9', 'b6861'), ('f12d1', 'b4283'), ('1336f', 'ac44e'), ('1336f', 'f72f3'), ('ac44e', '8fd51'), ('f72f3', '7fd51'), ('0fa51', 'a9763'), ('a9763', '2cdf6'), ('91698', 'c8292')]\n"
     ]
    },
    {
     "data": {
      "image/png": "[encoded data removed]",
      "text/plain": [
       "<Figure size 640x480 with 1 Axes>"
      ]
     },
     "metadata": {},
     "output_type": "display_data"
    }
   ],
   "source": [
    "# friends graph\n",
    "print(G.edges)\n",
    "nx.draw(G, pos=nx.spring_layout(G, k=0.2, iterations=20), with_labels=True)"
   ]
  },
  {
   "cell_type": "code",
   "execution_count": 10,
   "id": "bf323cbb",
   "metadata": {},
   "outputs": [],
   "source": [
    "max_capacities = dict()\n",
    "for p in projects:\n",
    "    max_capacities[p] = 4\n",
    "edges = list(G_c.edges)"
   ]
  },
  {
   "cell_type": "code",
   "execution_count": 11,
   "id": "7f30365e",
   "metadata": {},
   "outputs": [],
   "source": [
    "for e in c:\n",
    "    if c[e] < 0:\n",
    "        print(e, c[e])"
   ]
  },
  {
   "cell_type": "code",
   "execution_count": 12,
   "id": "f571f7b1",
   "metadata": {},
   "outputs": [],
   "source": [
    "with open(f'./csDS519_LinNorm.pickle', 'wb') as file:\n",
    "    pickle.dump(projects, file) # project names\n",
    "    pickle.dump(max_capacities, file) # max capacity for each project\n",
    "    pickle.dump(c, file) # project preferences\n",
    "    pickle.dump(w, file) # weights of conflict edges\n",
    "    pickle.dump(edges, file) # conflict edges\n",
    "    pickle.dump(assignment, file) # manual project assignments\n",
    "    pickle.dump(representatives, file) # representatives\n",
    "    file.close()"
   ]
  },
  {
   "cell_type": "code",
   "execution_count": 13,
   "id": "1ccd3932",
   "metadata": {},
   "outputs": [
    {
     "data": {
      "text/plain": [
       "28"
      ]
     },
     "execution_count": 13,
     "metadata": {},
     "output_type": "execute_result"
    }
   ],
   "source": [
    "len(G.nodes)"
   ]
  },
  {
   "cell_type": "code",
   "execution_count": 14,
   "id": "bb17428d",
   "metadata": {},
   "outputs": [
    {
     "name": "stdout",
     "output_type": "stream",
     "text": [
      "['86b6e', '10cde', '6aff8', 'd8c36', 'd67c3', '0a1e9', 'b6861', 'f12d1', 'b4283', '1336f', 'ac44e', 'f72f3', '8fd51', '0fa51', 'a9763', '91698', 'c8292', '7fd51', '2cdf6', '45523', 'cf399', '10718', '5cf3a', 'f20d8', 'ad230', 'da3a5', '2c470', '95506']\n"
     ]
    }
   ],
   "source": [
    "print(G.nodes)"
   ]
  },
  {
   "cell_type": "code",
   "execution_count": 15,
   "id": "32b7c04c",
   "metadata": {},
   "outputs": [
    {
     "data": {
      "text/plain": [
       "{'86b6e': '29c21',\n",
       " '6aff8': '86839',\n",
       " '45523': '63a0e',\n",
       " 'b6861': '86839',\n",
       " 'cf399': 'fc925',\n",
       " 'a9763': 'fc925',\n",
       " 'f12d1': '14ebd',\n",
       " '10718': '14ebd',\n",
       " '1336f': 'f5c70',\n",
       " '5cf3a': 'f5c70',\n",
       " 'd67c3': '63a0e',\n",
       " 'f20d8': 'f5c70',\n",
       " 'b4283': '14ebd',\n",
       " 'f72f3': '902c6',\n",
       " '8fd51': '902c6',\n",
       " 'ad230': '86839',\n",
       " 'da3a5': '902c6',\n",
       " 'c8292': '63a0e',\n",
       " 'ac44e': 'f5c70',\n",
       " '0fa51': '29c21',\n",
       " '91698': '29c21',\n",
       " '7fd51': '902c6',\n",
       " '2c470': '14ebd',\n",
       " '0a1e9': '63a0e',\n",
       " '95506': 'fc925',\n",
       " '10cde': '29c21',\n",
       " '2cdf6': 'fc925',\n",
       " 'd8c36': '63a0e'}"
      ]
     },
     "execution_count": 15,
     "metadata": {},
     "output_type": "execute_result"
    }
   ],
   "source": [
    "assignment"
   ]
  },
  {
   "cell_type": "code",
   "execution_count": null,
   "id": "51eb5c32",
   "metadata": {},
   "outputs": [],
   "source": []
  }
 ],
 "metadata": {
  "kernelspec": {
   "display_name": "Python 3 (ipykernel)",
   "language": "python",
   "name": "python3"
  },
  "language_info": {
   "codemirror_mode": {
    "name": "ipython",
    "version": 3
   },
   "file_extension": ".py",
   "mimetype": "text/x-python",
   "name": "python",
   "nbconvert_exporter": "python",
   "pygments_lexer": "ipython3",
   "version": "3.10.12"
  }
 },
 "nbformat": 4,
 "nbformat_minor": 5
}
