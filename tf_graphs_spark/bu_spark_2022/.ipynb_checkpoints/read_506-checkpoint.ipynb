{
 "cells": [
  {
   "cell_type": "code",
   "execution_count": 1,
   "id": "5257f87a",
   "metadata": {},
   "outputs": [],
   "source": [
    "import pandas as pd\n",
    "import networkx as nx\n",
    "import numpy as np\n",
    "import pickle"
   ]
  },
  {
   "cell_type": "code",
   "execution_count": 2,
   "id": "f01daaf9",
   "metadata": {},
   "outputs": [],
   "source": [
    "file_path = '506_anon.csv'\n",
    "df = pd.read_csv(file_path)\n",
    "cols = len(df.columns)\n",
    "prefType = 'LinNorm' # 'Exp', 'Lin', 'LinNorm'"
   ]
  },
  {
   "cell_type": "code",
   "execution_count": 3,
   "id": "188f59b3",
   "metadata": {},
   "outputs": [],
   "source": [
    "df['Team #'].astype(int)\n",
    "df['Team #'] = df['Team #'].map(dict(zip([1, 2, 3, 4, 5], ['A', 'B', 'C', 'D', 'E'])))\n",
    "df['anonymized project assignment'] = df['anonymized project assignment'] + df['Team #']"
   ]
  },
  {
   "cell_type": "code",
   "execution_count": 4,
   "id": "8f168fd9",
   "metadata": {},
   "outputs": [],
   "source": [
    "numOfProjects = 14\n",
    "columns_to_drop = ['email anonymized','Mondays', 'Tuesdays', 'Wednesdays', 'Thursdays', 'Fridays', 'Team #']\n",
    "df_dropped_multiple = df.drop(columns=columns_to_drop)\n",
    "\n",
    "# If you want to modify the DataFrame in place, use inplace=True\n",
    "df.drop(columns=columns_to_drop, inplace=True)\n",
    "\n",
    "\n",
    "column_name_mapping = {\n",
    "    df.columns[0]: 'id',\n",
    "    df.columns[1]: 'representative',\n",
    "    df.columns[-2]: 'friends',\n",
    "    df.columns[-1]: 'assignment'  \n",
    "}\n",
    "\n",
    "for i in range(2, numOfProjects + 2):\n",
    "    column_name_mapping[df.columns[i]] = df.columns[i][-5:]+'A'\n",
    "    \n",
    "df.rename(columns=column_name_mapping, inplace=True)"
   ]
  },
  {
   "cell_type": "code",
   "execution_count": 5,
   "id": "6697e6e6",
   "metadata": {},
   "outputs": [
    {
     "data": {
      "text/plain": [
       "Index(['id', 'representative', 'b09c1A', '6c0f1A', 'f10d5A', 'f0a5eA',\n",
       "       'a23d9A', '4a15fA', 'eb50dA', 'be328A', '7f7c0A', '20ef0A', 'acaecA',\n",
       "       'bd1f8A', '697f1A', '02088A', 'friends', 'assignment'],\n",
       "      dtype='object')"
      ]
     },
     "execution_count": 5,
     "metadata": {},
     "output_type": "execute_result"
    }
   ],
   "source": [
    "df.columns"
   ]
  },
  {
   "cell_type": "code",
   "execution_count": 6,
   "id": "5d2d8644",
   "metadata": {},
   "outputs": [],
   "source": [
    "# Add teams for the same project\n",
    "def replicate_projects(projects, k):\n",
    "    letters = ['B', 'C', 'D', 'E', 'F', 'G']\n",
    "    for p in projects:\n",
    "        root_proj = p + 'A'\n",
    "        for i in range(k-1):\n",
    "            df[p+letters[i]] = df[root_proj]\n",
    "            \n",
    "replicate_projects(['b09c1', '4a15f', 'eb50d', 'be328', '7f7c0', '02088'], 5)\n",
    "replicate_projects(['20ef0', 'acaec', 'bd1f8'], 3)\n",
    "replicate_projects(['6c0f1', 'f10d5', 'a23d9', '697f1', 'f0a5e'], 2)"
   ]
  },
  {
   "cell_type": "code",
   "execution_count": 7,
   "id": "23fbd456",
   "metadata": {},
   "outputs": [
    {
     "data": {
      "text/plain": [
       "Index(['id', 'representative', 'b09c1A', '6c0f1A', 'f10d5A', 'f0a5eA',\n",
       "       'a23d9A', '4a15fA', 'eb50dA', 'be328A', '7f7c0A', '20ef0A', 'acaecA',\n",
       "       'bd1f8A', '697f1A', '02088A', 'b09c1B', 'b09c1C', 'b09c1D', 'b09c1E',\n",
       "       '4a15fB', '4a15fC', '4a15fD', '4a15fE', 'eb50dB', 'eb50dC', 'eb50dD',\n",
       "       'eb50dE', 'be328B', 'be328C', 'be328D', 'be328E', '7f7c0B', '7f7c0C',\n",
       "       '7f7c0D', '7f7c0E', '02088B', '02088C', '02088D', '02088E', '20ef0B',\n",
       "       '20ef0C', 'acaecB', 'acaecC', 'bd1f8B', 'bd1f8C', '6c0f1B', 'f10d5B',\n",
       "       'a23d9B', '697f1B', 'f0a5eB', 'friends', 'assignment'],\n",
       "      dtype='object')"
      ]
     },
     "execution_count": 7,
     "metadata": {},
     "output_type": "execute_result"
    }
   ],
   "source": [
    "columns = [col for col in list(df.columns) if col not in ['friends', 'assignment']]\n",
    "columns += ['friends', 'assignment']\n",
    "df = df[columns]\n",
    "df.columns"
   ]
  },
  {
   "cell_type": "code",
   "execution_count": 8,
   "id": "c3437e96",
   "metadata": {},
   "outputs": [],
   "source": [
    "df['representative'].astype(str)\n",
    "df['representative'] = df['representative'].map({'No': 0, 'Maybe': 1, 'Yes': 1})"
   ]
  },
  {
   "cell_type": "code",
   "execution_count": 9,
   "id": "ec5c69a3",
   "metadata": {},
   "outputs": [
    {
     "name": "stdout",
     "output_type": "stream",
     "text": [
      "num of students = 168\n"
     ]
    }
   ],
   "source": [
    "n = df.shape[0]\n",
    "print(f'num of students = {n}')"
   ]
  },
  {
   "cell_type": "code",
   "execution_count": 10,
   "id": "5405fff5",
   "metadata": {},
   "outputs": [
    {
     "name": "stdout",
     "output_type": "stream",
     "text": [
      "# replicated projects = 49\n"
     ]
    }
   ],
   "source": [
    "numOfReplicatedProjects = len(df.columns) - 4\n",
    "print(f'# replicated projects = {numOfReplicatedProjects}')\n",
    "projects = list(df.columns[2: numOfReplicatedProjects+2])"
   ]
  },
  {
   "cell_type": "code",
   "execution_count": 11,
   "id": "299f34be",
   "metadata": {},
   "outputs": [
    {
     "name": "stdout",
     "output_type": "stream",
     "text": [
      "3e878\n",
      "48253\n",
      "cba6a\n",
      "03dae\n",
      "69695\n",
      "a9fbb\n",
      "7e5b4\n",
      "47d11\n",
      "277e2\n",
      "fc95d\n",
      "e2a40\n",
      "3882e\n",
      "f2d45\n",
      "a3004\n",
      "3b6af\n",
      "4b771\n",
      "4f711\n",
      "0fa99\n",
      "4f9dd\n",
      "ff8ac\n",
      "626e6\n",
      "09e60\n",
      "fffe2\n",
      "8b401\n",
      "05dc1\n",
      "99fdf\n",
      "8d841\n",
      "239b0\n",
      "d8dc3\n",
      "5d597\n",
      "c2def\n",
      "725e9\n",
      "4437f\n",
      "72cc1\n",
      "ddcf1\n",
      "62de3\n",
      "07ba3\n",
      "7301f\n",
      "0d24a\n",
      "ae1b8\n",
      "4576d\n",
      "d61b1\n",
      "48726\n",
      "7fd17\n",
      "09ee0\n",
      "99ba4\n",
      "b5a51\n",
      "fdb53\n",
      "86b6e\n",
      "f0e0b\n",
      "6fd10\n",
      "e7903\n",
      "15a0f\n",
      "38b25\n",
      "b31ec\n",
      "10718\n",
      "b6861\n",
      "4bb9b\n",
      "58c1e\n",
      "2684a\n",
      "8cc4a\n",
      "02ed3\n",
      "100c3\n",
      "1c2a8\n",
      "98075\n",
      "fbda7\n",
      "0ac0b\n",
      "ca78f\n",
      "285b3\n",
      "34706\n",
      "a31f8\n",
      "1003a\n",
      "f73c1\n",
      "e4d94\n",
      "e6564\n",
      "88177\n",
      "30225\n",
      "eaac3\n",
      "6be1f\n",
      "89b1b\n",
      "d8c36\n",
      "6aff8\n",
      "10cde\n",
      "aefc9\n",
      "f61b2\n",
      "a3a06\n",
      "3f9ea\n",
      "371ec\n",
      "27f54\n",
      "6ace2\n",
      "f0c14\n",
      "f5e99\n",
      "cd65d\n",
      "fccf2\n",
      "dbeb4\n",
      "95506\n",
      "c35e4\n",
      "d51a0\n",
      "45293\n",
      "dacea\n",
      "3126f\n",
      "6024e\n",
      "2c684\n",
      "7e05a\n",
      "f65f7\n",
      "3c948\n",
      "0aa44\n",
      "e2f32\n",
      "59b09\n",
      "28bbe\n",
      "fa523\n",
      "027b3\n",
      "c3f2e\n",
      "9e1a4\n",
      "0bb20\n",
      "36fd2\n",
      "ad98a\n",
      "0e9fb\n",
      "08e18\n",
      "c1783\n",
      "5c7bb\n",
      "fbfa2\n",
      "dc9e1\n",
      "d225d\n",
      "ec344\n",
      "f8117\n",
      "0e191\n",
      "cb944\n",
      "e1376\n",
      "7fd51\n",
      "05b07\n",
      "44114\n",
      "52881\n",
      "79052\n",
      "01653\n",
      "2cdf6\n",
      "c8292\n",
      "48133\n",
      "2137a\n",
      "2a591\n",
      "5485c\n",
      "5cf3a\n",
      "36bf2\n",
      "6f08d\n",
      "202e8\n",
      "ede24\n",
      "995a5\n",
      "6beb5\n",
      "0fa51\n",
      "4c684\n",
      "38e2a\n",
      "712d2\n",
      "174fe\n",
      "c0f80\n",
      "90c36\n",
      "808cb\n",
      "aeb8e\n",
      "d729a\n",
      "f73ff\n",
      "3e725\n",
      "4b146\n",
      "f3d21\n",
      "ff084\n",
      "c7939\n",
      "2e912\n",
      "49f94\n",
      "aae49\n",
      "da8fa\n"
     ]
    }
   ],
   "source": [
    "c = dict()\n",
    "G = nx.Graph()\n",
    "nodes = []\n",
    "assignment = dict()\n",
    "representatives = dict()\n",
    "for i in range(len(df)):\n",
    "    row = df.iloc[i]\n",
    "    id = row[0]\n",
    "    id = id[-5:]\n",
    "    print(id)\n",
    "    assignment[id] = str(row[numOfReplicatedProjects+3])[-6:]\n",
    "    nodes.append(id)\n",
    "    preferences = [int(p[:-2]) if type(p) == str else numOfProjects for p in row[2:numOfReplicatedProjects+2]]\n",
    "    for p, pref in zip(projects, preferences):\n",
    "        if prefType == 'Exp':\n",
    "            c[(str(id), p)] = 1 / pref\n",
    "        elif prefType == 'Lin':\n",
    "            c[(str(id), p)] = (numOfProjects - pref + 1)\n",
    "        elif prefType == 'LinNorm':\n",
    "            c[(str(id), p)] = (numOfProjects - pref + 1) / numOfProjects\n",
    "    \n",
    "    # friends\n",
    "    friends = row[numOfReplicatedProjects+2].strip(\"[]\").replace(\"'\", \"\").split(\",\")\n",
    "    for f in friends:\n",
    "        if f:\n",
    "            G.add_edge(id, f[-5:])\n",
    "            \n",
    "    # represenatitive\n",
    "    representatives[id] = row[1]\n",
    "    \n",
    "G.add_nodes_from(nodes)\n",
    "G_c = nx.complement(G)\n",
    "w = dict()\n",
    "for e in G_c.edges:\n",
    "    w[e] = 1\n",
    "edges = list(G_c.edges)"
   ]
  },
  {
   "cell_type": "code",
   "execution_count": 12,
   "id": "be11c812",
   "metadata": {},
   "outputs": [
    {
     "data": {
      "image/png": "[encoded data removed]",
      "text/plain": [
       "<Figure size 640x480 with 1 Axes>"
      ]
     },
     "metadata": {},
     "output_type": "display_data"
    }
   ],
   "source": [
    "# friends graph\n",
    "nx.draw(G, pos=nx.spring_layout(G), node_size=100)"
   ]
  },
  {
   "cell_type": "code",
   "execution_count": 13,
   "id": "bf323cbb",
   "metadata": {},
   "outputs": [],
   "source": [
    "max_capacities = dict()\n",
    "for p in projects:\n",
    "    max_capacities[p] = 5\n",
    "edges = list(G_c.edges)"
   ]
  },
  {
   "cell_type": "code",
   "execution_count": 14,
   "id": "f571f7b1",
   "metadata": {},
   "outputs": [],
   "source": [
    "with open(f'./csDS506_{prefType}.pickle', 'wb') as file:\n",
    "    pickle.dump(projects, file) # project names\n",
    "    pickle.dump(max_capacities, file) # max capacity for each project\n",
    "    pickle.dump(c, file) # project preferences\n",
    "    pickle.dump(w, file) # weights of conflict edges\n",
    "    pickle.dump(edges, file) # conflict edges\n",
    "    pickle.dump(assignment, file) # manual project assignment\n",
    "    pickle.dump(representatives, file) # representatives\n",
    "    file.close()"
   ]
  },
  {
   "cell_type": "code",
   "execution_count": 15,
   "id": "1ccd3932",
   "metadata": {},
   "outputs": [
    {
     "data": {
      "text/plain": [
       "168"
      ]
     },
     "execution_count": 15,
     "metadata": {},
     "output_type": "execute_result"
    }
   ],
   "source": [
    "len(G.nodes)"
   ]
  },
  {
   "cell_type": "code",
   "execution_count": 16,
   "id": "bb17428d",
   "metadata": {},
   "outputs": [
    {
     "name": "stdout",
     "output_type": "stream",
     "text": [
      "['cba6a', '4f711', '69695', 'f61b2', '277e2', '7e5b4', '808cb', '47d11', '01653', 'e2a40', '4437f', '3882e', '4b771', 'a3004', '239b0', '0fa99', 'd225d', '79052', '62de3', 'ff8ac', '05b07', '626e6', 'e7903', 'fffe2', '9e1a4', '05dc1', 'ca78f', '99fdf', '5c7bb', '5d597', '202e8', '07ba3', '0ac0b', '0d24a', 'd51a0', 'd61b1', 'c1783', '7fd17', '86b6e', '09ee0', 'fbda7', '99ba4', '52881', 'fdb53', '08e18', '10cde', 'f0e0b', '285b3', '45293', '15a0f', 'c3f2e', '38b25', 'b31ec', '7e05a', '10718', '6fd10', 'b6861', '6aff8', 'd8c36', '4bb9b', 'a31f8', '58c1e', '48133', '02ed3', '59b09', '1c2a8', '30225', '2cdf6', '6be1f', 'f73c1', 'e4d94', 'e6564', '88177', '38e2a', '371ec', '6ace2', '5485c', 'cd65d', 'dbeb4', '90c36', 'fccf2', 'c35e4', 'fa523', '4b146', '6024e', 'ec344', '0e191', '0aa44', 'dc9e1', '3e725', '28bbe', '027b3', '36fd2', '0e9fb', 'fbfa2', '44114', '2137a', '36bf2', 'da8fa', '995a5', '0fa51', 'd729a', 'f3d21', '48253', 'ff084', '49f94', 'aae49', 'fc95d', '3e878', '03dae', 'a9fbb', 'f2d45', '3b6af', '4f9dd', '09e60', '8b401', '8d841', 'd8dc3', 'c2def', '725e9', '72cc1', 'ddcf1', '7301f', 'ae1b8', '4576d', '48726', 'b5a51', '2684a', '8cc4a', '100c3', '98075', '34706', '1003a', 'eaac3', '89b1b', 'aefc9', 'a3a06', '3f9ea', '27f54', 'f0c14', 'f5e99', '95506', 'dacea', '3126f', '2c684', 'f65f7', '3c948', 'e2f32', '0bb20', 'ad98a', 'f8117', 'cb944', 'e1376', '7fd51', 'c8292', '2a591', '5cf3a', '6f08d', 'ede24', '6beb5', '4c684', '712d2', '174fe', 'c0f80', 'aeb8e', 'f73ff', 'c7939', '2e912']\n"
     ]
    }
   ],
   "source": [
    "print(G.nodes)"
   ]
  },
  {
   "cell_type": "code",
   "execution_count": 17,
   "id": "32b7c04c",
   "metadata": {},
   "outputs": [
    {
     "data": {
      "text/plain": [
       "{'3e878': 'eb50dE',\n",
       " '48253': '02088A',\n",
       " 'cba6a': '20ef0C',\n",
       " '03dae': 'be328B',\n",
       " '69695': '02088C',\n",
       " 'a9fbb': 'f0a5eB',\n",
       " '7e5b4': 'acaecC',\n",
       " '47d11': '4a15fC',\n",
       " '277e2': '02088C',\n",
       " 'fc95d': 'eb50dE',\n",
       " 'e2a40': '697f1A',\n",
       " '3882e': 'bd1f8A',\n",
       " 'f2d45': '7f7c0B',\n",
       " 'a3004': '7f7c0A',\n",
       " '3b6af': '7f7c0B',\n",
       " '4b771': 'bd1f8A',\n",
       " '4f711': '6c0f1B',\n",
       " '0fa99': 'f0a5eA',\n",
       " '4f9dd': '20ef0B',\n",
       " 'ff8ac': 'b09c1A',\n",
       " '626e6': '02088C',\n",
       " '09e60': 'be328D',\n",
       " 'fffe2': 'a23d9A',\n",
       " '8b401': 'eb50dD',\n",
       " '05dc1': '6c0f1A',\n",
       " '99fdf': '02088D',\n",
       " '8d841': 'a23d9B',\n",
       " '239b0': '7f7c0A',\n",
       " 'd8dc3': '7f7c0D',\n",
       " '5d597': 'bd1f8B',\n",
       " 'c2def': 'f0a5eA',\n",
       " '725e9': '4a15fA',\n",
       " '4437f': '697f1A',\n",
       " '72cc1': '7f7c0D',\n",
       " 'ddcf1': '4a15fC',\n",
       " '62de3': 'a23d9A',\n",
       " '07ba3': 'bd1f8B',\n",
       " '7301f': '20ef0C',\n",
       " '0d24a': 'f10d5A',\n",
       " 'ae1b8': '7f7c0C',\n",
       " '4576d': 'eb50dD',\n",
       " 'd61b1': 'be328C',\n",
       " '48726': '4a15fC',\n",
       " '7fd17': 'acaecB',\n",
       " '09ee0': 'be328A',\n",
       " '99ba4': '02088E',\n",
       " 'b5a51': '7f7c0D',\n",
       " 'fdb53': '02088B',\n",
       " '86b6e': 'acaecB',\n",
       " 'f0e0b': 'eb50dB',\n",
       " '6fd10': '6c0f1B',\n",
       " 'e7903': '02088A',\n",
       " '15a0f': '20ef0A',\n",
       " '38b25': 'bd1f8A',\n",
       " 'b31ec': 'eb50dC',\n",
       " '10718': '6c0f1B',\n",
       " 'b6861': 'acaecA',\n",
       " '4bb9b': 'eb50dB',\n",
       " '58c1e': 'be328D',\n",
       " '2684a': '7f7c0B',\n",
       " '8cc4a': '697f1A',\n",
       " '02ed3': '4a15fA',\n",
       " '100c3': '02088E',\n",
       " '1c2a8': '02088D',\n",
       " '98075': 'be328A',\n",
       " 'fbda7': 'be328A',\n",
       " '0ac0b': 'bd1f8B',\n",
       " 'ca78f': '6c0f1A',\n",
       " '285b3': 'eb50dB',\n",
       " '34706': '697f1A',\n",
       " 'a31f8': 'eb50dB',\n",
       " '1003a': '4a15fD',\n",
       " 'f73c1': 'a23d9B',\n",
       " 'e4d94': '6c0f1A',\n",
       " 'e6564': '6c0f1A',\n",
       " '88177': '4a15fA',\n",
       " '30225': '20ef0B',\n",
       " 'eaac3': '7f7c0B',\n",
       " '6be1f': 'eb50dE',\n",
       " '89b1b': 'be328B',\n",
       " 'd8c36': 'acaecA',\n",
       " '6aff8': 'acaecA',\n",
       " '10cde': 'acaecB',\n",
       " 'aefc9': 'f0a5eB',\n",
       " 'f61b2': '02088C',\n",
       " 'a3a06': 'f0a5eA',\n",
       " '3f9ea': '7f7c0D',\n",
       " '371ec': 'b09c1B',\n",
       " '27f54': '7f7c0A',\n",
       " '6ace2': 'acaecC',\n",
       " 'f0c14': '7f7c0C',\n",
       " 'f5e99': '02088E',\n",
       " 'cd65d': '697f1B',\n",
       " 'fccf2': 'acaecB',\n",
       " 'dbeb4': '697f1B',\n",
       " '95506': 'eb50dC',\n",
       " 'c35e4': '4a15fB',\n",
       " 'd51a0': 'f10d5A',\n",
       " '45293': '02088A',\n",
       " 'dacea': 'eb50dD',\n",
       " '3126f': 'a23d9A',\n",
       " '6024e': 'eb50dC',\n",
       " '2c684': 'be328C',\n",
       " '7e05a': '4a15fD',\n",
       " 'f65f7': '4a15fD',\n",
       " '3c948': '6c0f1A',\n",
       " '0aa44': '20ef0A',\n",
       " 'e2f32': '20ef0B',\n",
       " '59b09': '4a15fB',\n",
       " '28bbe': 'eb50dA',\n",
       " 'fa523': '4a15fB',\n",
       " '027b3': 'eb50dD',\n",
       " 'c3f2e': '20ef0A',\n",
       " '9e1a4': 'a23d9A',\n",
       " '0bb20': 'bd1f8A',\n",
       " '36fd2': 'be328B',\n",
       " 'ad98a': 'b09c1A',\n",
       " '0e9fb': 'be328B',\n",
       " '08e18': '02088B',\n",
       " 'c1783': 'be328C',\n",
       " '5c7bb': '02088D',\n",
       " 'fbfa2': '02088B',\n",
       " 'dc9e1': '20ef0A',\n",
       " 'd225d': 'f0a5eA',\n",
       " 'ec344': 'eb50dC',\n",
       " 'f8117': '20ef0B',\n",
       " '0e191': '4a15fD',\n",
       " 'cb944': 'eb50dE',\n",
       " 'e1376': '697f1B',\n",
       " '7fd51': 'eb50dA',\n",
       " '05b07': 'b09c1A',\n",
       " '44114': '02088B',\n",
       " '52881': '02088E',\n",
       " '79052': 'a23d9A',\n",
       " '01653': '4a15fC',\n",
       " '2cdf6': 'b09c1B',\n",
       " 'c8292': '6c0f1B',\n",
       " '48133': 'be328D',\n",
       " '2137a': 'a23d9B',\n",
       " '2a591': 'be328A',\n",
       " '5485c': 'acaecC',\n",
       " '5cf3a': 'b09c1B',\n",
       " '36bf2': 'f0a5eB',\n",
       " '6f08d': 'a23d9B',\n",
       " '202e8': 'bd1f8B',\n",
       " 'ede24': 'be328D',\n",
       " '995a5': 'b09c1A',\n",
       " '6beb5': '7f7c0C',\n",
       " '0fa51': '7f7c0A',\n",
       " '4c684': 'acaecA',\n",
       " '38e2a': '4a15fA',\n",
       " '712d2': '7f7c0C',\n",
       " '174fe': '20ef0C',\n",
       " 'c0f80': 'b09c1B',\n",
       " '90c36': '697f1B',\n",
       " '808cb': 'eb50dA',\n",
       " 'aeb8e': '02088D',\n",
       " 'd729a': 'eb50dA',\n",
       " 'f73ff': 'f10d5A',\n",
       " '3e725': '4a15fB',\n",
       " '4b146': 'f10d5A',\n",
       " 'f3d21': '02088A',\n",
       " 'ff084': 'a23d9B',\n",
       " 'c7939': 'acaecC',\n",
       " '2e912': '20ef0C',\n",
       " '49f94': 'eb50dD',\n",
       " 'aae49': 'be328C',\n",
       " 'da8fa': 'f0a5eB'}"
      ]
     },
     "execution_count": 17,
     "metadata": {},
     "output_type": "execute_result"
    }
   ],
   "source": [
    "assignment"
   ]
  },
  {
   "cell_type": "code",
   "execution_count": 18,
   "id": "51eb5c32",
   "metadata": {},
   "outputs": [
    {
     "data": {
      "text/plain": [
       "['b09c1A',\n",
       " '6c0f1A',\n",
       " 'f10d5A',\n",
       " 'f0a5eA',\n",
       " 'a23d9A',\n",
       " '4a15fA',\n",
       " 'eb50dA',\n",
       " 'be328A',\n",
       " '7f7c0A',\n",
       " '20ef0A',\n",
       " 'acaecA',\n",
       " 'bd1f8A',\n",
       " '697f1A',\n",
       " '02088A',\n",
       " 'b09c1B',\n",
       " 'b09c1C',\n",
       " 'b09c1D',\n",
       " 'b09c1E',\n",
       " '4a15fB',\n",
       " '4a15fC',\n",
       " '4a15fD',\n",
       " '4a15fE',\n",
       " 'eb50dB',\n",
       " 'eb50dC',\n",
       " 'eb50dD',\n",
       " 'eb50dE',\n",
       " 'be328B',\n",
       " 'be328C',\n",
       " 'be328D',\n",
       " 'be328E',\n",
       " '7f7c0B',\n",
       " '7f7c0C',\n",
       " '7f7c0D',\n",
       " '7f7c0E',\n",
       " '02088B',\n",
       " '02088C',\n",
       " '02088D',\n",
       " '02088E',\n",
       " '20ef0B',\n",
       " '20ef0C',\n",
       " 'acaecB',\n",
       " 'acaecC',\n",
       " 'bd1f8B',\n",
       " 'bd1f8C',\n",
       " '6c0f1B',\n",
       " 'f10d5B',\n",
       " 'a23d9B',\n",
       " '697f1B',\n",
       " 'f0a5eB']"
      ]
     },
     "execution_count": 18,
     "metadata": {},
     "output_type": "execute_result"
    }
   ],
   "source": [
    "projects"
   ]
  },
  {
   "cell_type": "code",
   "execution_count": 19,
   "id": "de3bb26b",
   "metadata": {},
   "outputs": [],
   "source": []
  }
 ],
 "metadata": {
  "kernelspec": {
   "display_name": "Python 3 (ipykernel)",
   "language": "python",
   "name": "python3"
  },
  "language_info": {
   "codemirror_mode": {
    "name": "ipython",
    "version": 3
   },
   "file_extension": ".py",
   "mimetype": "text/x-python",
   "name": "python",
   "nbconvert_exporter": "python",
   "pygments_lexer": "ipython3",
   "version": "3.10.12"
  }
 },
 "nbformat": 4,
 "nbformat_minor": 5
}
